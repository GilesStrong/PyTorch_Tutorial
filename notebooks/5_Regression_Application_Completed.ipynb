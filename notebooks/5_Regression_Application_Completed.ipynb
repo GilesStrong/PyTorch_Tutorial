{
 "cells": [
  {
   "cell_type": "markdown",
   "metadata": {},
   "source": [
    "# Regression of song year\n",
    "Another example of real-world data. Here we want to try and predict which years in which songs were released.\n",
    "\n",
    "The data are discussed in https://archive.ics.uci.edu/ml/datasets/yearpredictionmsd\n",
    "We have a range of songs from different years, and the features are based on the timbre of the music. The aim is to build a model based on the timbre features to regress to the year of release\n",
    "\n",
    "Run the cell below to download the data"
   ]
  },
  {
   "cell_type": "code",
   "execution_count": null,
   "metadata": {},
   "outputs": [],
   "source": [
    "!mkdir ./data\n",
    "!wget https://archive.ics.uci.edu/ml/machine-learning-databases/00203/YearPredictionMSD.txt.zip -O ./data/YearPredictionMSD.txt.zip\n",
    "!unzip ./data/YearPredictionMSD.txt.zip -d ./data/"
   ]
  },
  {
   "cell_type": "code",
   "execution_count": 1,
   "metadata": {},
   "outputs": [],
   "source": [
    "%matplotlib inline\n",
    "%reload_ext autoreload\n",
    "%autoreload 2"
   ]
  },
  {
   "cell_type": "code",
   "execution_count": 2,
   "metadata": {},
   "outputs": [],
   "source": [
    "import pandas as pd\n",
    "import numpy as np\n",
    "import matplotlib.pyplot as plt\n",
    "import seaborn as sns\n",
    "from typing import List, Union, Optional, Tuple\n",
    "from collections import OrderedDict, defaultdict, deque\n",
    "import os\n",
    "import math\n",
    "from pathlib import Path\n",
    "\n",
    "import sklearn\n",
    "from sklearn.model_selection import train_test_split \n",
    "from sklearn.ensemble import RandomForestClassifier\n",
    "from sklearn.ensemble.forest import ForestRegressor\n",
    "from sklearn.preprocessing import StandardScaler\n",
    "from sklearn.pipeline import Pipeline\n",
    "\n",
    "from typing import *\n",
    "from fastprogress import progress_bar\n",
    "\n",
    "import torch\n",
    "from torch import nn, Tensor, optim\n",
    "from torch.nn.modules.loss import _Loss\n",
    "from torch.utils.data import DataLoader, Dataset\n",
    "from torch.nn import BCELoss, MSELoss"
   ]
  },
  {
   "cell_type": "markdown",
   "metadata": {},
   "source": [
    "# Data Importing\n",
    "The data is in *Comma Separated Value* (CSV) format. To load it up, we'll use Pandas."
   ]
  },
  {
   "cell_type": "code",
   "execution_count": 3,
   "metadata": {},
   "outputs": [
    {
     "name": "stdout",
     "output_type": "stream",
     "text": [
      "515345\n"
     ]
    },
    {
     "data": {
      "text/html": [
       "<div>\n",
       "<style scoped>\n",
       "    .dataframe tbody tr th:only-of-type {\n",
       "        vertical-align: middle;\n",
       "    }\n",
       "\n",
       "    .dataframe tbody tr th {\n",
       "        vertical-align: top;\n",
       "    }\n",
       "\n",
       "    .dataframe thead th {\n",
       "        text-align: right;\n",
       "    }\n",
       "</style>\n",
       "<table border=\"1\" class=\"dataframe\">\n",
       "  <thead>\n",
       "    <tr style=\"text-align: right;\">\n",
       "      <th></th>\n",
       "      <th>0</th>\n",
       "      <th>1</th>\n",
       "      <th>2</th>\n",
       "      <th>3</th>\n",
       "      <th>4</th>\n",
       "      <th>5</th>\n",
       "      <th>6</th>\n",
       "      <th>7</th>\n",
       "      <th>8</th>\n",
       "      <th>9</th>\n",
       "      <th>...</th>\n",
       "      <th>81</th>\n",
       "      <th>82</th>\n",
       "      <th>83</th>\n",
       "      <th>84</th>\n",
       "      <th>85</th>\n",
       "      <th>86</th>\n",
       "      <th>87</th>\n",
       "      <th>88</th>\n",
       "      <th>89</th>\n",
       "      <th>90</th>\n",
       "    </tr>\n",
       "  </thead>\n",
       "  <tbody>\n",
       "    <tr>\n",
       "      <th>0</th>\n",
       "      <td>2001</td>\n",
       "      <td>49.94357</td>\n",
       "      <td>21.47114</td>\n",
       "      <td>73.07750</td>\n",
       "      <td>8.74861</td>\n",
       "      <td>-17.40628</td>\n",
       "      <td>-13.09905</td>\n",
       "      <td>-25.01202</td>\n",
       "      <td>-12.23257</td>\n",
       "      <td>7.83089</td>\n",
       "      <td>...</td>\n",
       "      <td>13.01620</td>\n",
       "      <td>-54.40548</td>\n",
       "      <td>58.99367</td>\n",
       "      <td>15.37344</td>\n",
       "      <td>1.11144</td>\n",
       "      <td>-23.08793</td>\n",
       "      <td>68.40795</td>\n",
       "      <td>-1.82223</td>\n",
       "      <td>-27.46348</td>\n",
       "      <td>2.26327</td>\n",
       "    </tr>\n",
       "    <tr>\n",
       "      <th>1</th>\n",
       "      <td>2001</td>\n",
       "      <td>48.73215</td>\n",
       "      <td>18.42930</td>\n",
       "      <td>70.32679</td>\n",
       "      <td>12.94636</td>\n",
       "      <td>-10.32437</td>\n",
       "      <td>-24.83777</td>\n",
       "      <td>8.76630</td>\n",
       "      <td>-0.92019</td>\n",
       "      <td>18.76548</td>\n",
       "      <td>...</td>\n",
       "      <td>5.66812</td>\n",
       "      <td>-19.68073</td>\n",
       "      <td>33.04964</td>\n",
       "      <td>42.87836</td>\n",
       "      <td>-9.90378</td>\n",
       "      <td>-32.22788</td>\n",
       "      <td>70.49388</td>\n",
       "      <td>12.04941</td>\n",
       "      <td>58.43453</td>\n",
       "      <td>26.92061</td>\n",
       "    </tr>\n",
       "    <tr>\n",
       "      <th>2</th>\n",
       "      <td>2001</td>\n",
       "      <td>50.95714</td>\n",
       "      <td>31.85602</td>\n",
       "      <td>55.81851</td>\n",
       "      <td>13.41693</td>\n",
       "      <td>-6.57898</td>\n",
       "      <td>-18.54940</td>\n",
       "      <td>-3.27872</td>\n",
       "      <td>-2.35035</td>\n",
       "      <td>16.07017</td>\n",
       "      <td>...</td>\n",
       "      <td>3.03800</td>\n",
       "      <td>26.05866</td>\n",
       "      <td>-50.92779</td>\n",
       "      <td>10.93792</td>\n",
       "      <td>-0.07568</td>\n",
       "      <td>43.20130</td>\n",
       "      <td>-115.00698</td>\n",
       "      <td>-0.05859</td>\n",
       "      <td>39.67068</td>\n",
       "      <td>-0.66345</td>\n",
       "    </tr>\n",
       "    <tr>\n",
       "      <th>3</th>\n",
       "      <td>2001</td>\n",
       "      <td>48.24750</td>\n",
       "      <td>-1.89837</td>\n",
       "      <td>36.29772</td>\n",
       "      <td>2.58776</td>\n",
       "      <td>0.97170</td>\n",
       "      <td>-26.21683</td>\n",
       "      <td>5.05097</td>\n",
       "      <td>-10.34124</td>\n",
       "      <td>3.55005</td>\n",
       "      <td>...</td>\n",
       "      <td>34.57337</td>\n",
       "      <td>-171.70734</td>\n",
       "      <td>-16.96705</td>\n",
       "      <td>-46.67617</td>\n",
       "      <td>-12.51516</td>\n",
       "      <td>82.58061</td>\n",
       "      <td>-72.08993</td>\n",
       "      <td>9.90558</td>\n",
       "      <td>199.62971</td>\n",
       "      <td>18.85382</td>\n",
       "    </tr>\n",
       "    <tr>\n",
       "      <th>4</th>\n",
       "      <td>2001</td>\n",
       "      <td>50.97020</td>\n",
       "      <td>42.20998</td>\n",
       "      <td>67.09964</td>\n",
       "      <td>8.46791</td>\n",
       "      <td>-15.85279</td>\n",
       "      <td>-16.81409</td>\n",
       "      <td>-12.48207</td>\n",
       "      <td>-9.37636</td>\n",
       "      <td>12.63699</td>\n",
       "      <td>...</td>\n",
       "      <td>9.92661</td>\n",
       "      <td>-55.95724</td>\n",
       "      <td>64.92712</td>\n",
       "      <td>-17.72522</td>\n",
       "      <td>-1.49237</td>\n",
       "      <td>-7.50035</td>\n",
       "      <td>51.76631</td>\n",
       "      <td>7.88713</td>\n",
       "      <td>55.66926</td>\n",
       "      <td>28.74903</td>\n",
       "    </tr>\n",
       "  </tbody>\n",
       "</table>\n",
       "<p>5 rows × 91 columns</p>\n",
       "</div>"
      ],
      "text/plain": [
       "     0         1         2         3         4         5         6         7   \\\n",
       "0  2001  49.94357  21.47114  73.07750   8.74861 -17.40628 -13.09905 -25.01202   \n",
       "1  2001  48.73215  18.42930  70.32679  12.94636 -10.32437 -24.83777   8.76630   \n",
       "2  2001  50.95714  31.85602  55.81851  13.41693  -6.57898 -18.54940  -3.27872   \n",
       "3  2001  48.24750  -1.89837  36.29772   2.58776   0.97170 -26.21683   5.05097   \n",
       "4  2001  50.97020  42.20998  67.09964   8.46791 -15.85279 -16.81409 -12.48207   \n",
       "\n",
       "         8         9   ...        81         82        83        84        85  \\\n",
       "0 -12.23257   7.83089  ...  13.01620  -54.40548  58.99367  15.37344   1.11144   \n",
       "1  -0.92019  18.76548  ...   5.66812  -19.68073  33.04964  42.87836  -9.90378   \n",
       "2  -2.35035  16.07017  ...   3.03800   26.05866 -50.92779  10.93792  -0.07568   \n",
       "3 -10.34124   3.55005  ...  34.57337 -171.70734 -16.96705 -46.67617 -12.51516   \n",
       "4  -9.37636  12.63699  ...   9.92661  -55.95724  64.92712 -17.72522  -1.49237   \n",
       "\n",
       "         86         87        88         89        90  \n",
       "0 -23.08793   68.40795  -1.82223  -27.46348   2.26327  \n",
       "1 -32.22788   70.49388  12.04941   58.43453  26.92061  \n",
       "2  43.20130 -115.00698  -0.05859   39.67068  -0.66345  \n",
       "3  82.58061  -72.08993   9.90558  199.62971  18.85382  \n",
       "4  -7.50035   51.76631   7.88713   55.66926  28.74903  \n",
       "\n",
       "[5 rows x 91 columns]"
      ]
     },
     "execution_count": 3,
     "metadata": {},
     "output_type": "execute_result"
    }
   ],
   "source": [
    "df = pd.read_csv('data/YearPredictionMSD.txt', header=None); print(len(df)); df.head()"
   ]
  },
  {
   "cell_type": "markdown",
   "metadata": {},
   "source": [
    "## Column names\n",
    "In the dataset as is, the features (columns) are just numbers. We can set them to a more human-readable format"
   ]
  },
  {
   "cell_type": "code",
   "execution_count": 4,
   "metadata": {},
   "outputs": [],
   "source": [
    "df.columns = [\"Target\"]+[f'Feat_{i}' for i in range(90)]"
   ]
  },
  {
   "cell_type": "code",
   "execution_count": 5,
   "metadata": {},
   "outputs": [
    {
     "data": {
      "text/html": [
       "<div>\n",
       "<style scoped>\n",
       "    .dataframe tbody tr th:only-of-type {\n",
       "        vertical-align: middle;\n",
       "    }\n",
       "\n",
       "    .dataframe tbody tr th {\n",
       "        vertical-align: top;\n",
       "    }\n",
       "\n",
       "    .dataframe thead th {\n",
       "        text-align: right;\n",
       "    }\n",
       "</style>\n",
       "<table border=\"1\" class=\"dataframe\">\n",
       "  <thead>\n",
       "    <tr style=\"text-align: right;\">\n",
       "      <th></th>\n",
       "      <th>Target</th>\n",
       "      <th>Feat_0</th>\n",
       "      <th>Feat_1</th>\n",
       "      <th>Feat_2</th>\n",
       "      <th>Feat_3</th>\n",
       "      <th>Feat_4</th>\n",
       "      <th>Feat_5</th>\n",
       "      <th>Feat_6</th>\n",
       "      <th>Feat_7</th>\n",
       "      <th>Feat_8</th>\n",
       "      <th>...</th>\n",
       "      <th>Feat_80</th>\n",
       "      <th>Feat_81</th>\n",
       "      <th>Feat_82</th>\n",
       "      <th>Feat_83</th>\n",
       "      <th>Feat_84</th>\n",
       "      <th>Feat_85</th>\n",
       "      <th>Feat_86</th>\n",
       "      <th>Feat_87</th>\n",
       "      <th>Feat_88</th>\n",
       "      <th>Feat_89</th>\n",
       "    </tr>\n",
       "  </thead>\n",
       "  <tbody>\n",
       "    <tr>\n",
       "      <th>0</th>\n",
       "      <td>2001</td>\n",
       "      <td>49.94357</td>\n",
       "      <td>21.47114</td>\n",
       "      <td>73.07750</td>\n",
       "      <td>8.74861</td>\n",
       "      <td>-17.40628</td>\n",
       "      <td>-13.09905</td>\n",
       "      <td>-25.01202</td>\n",
       "      <td>-12.23257</td>\n",
       "      <td>7.83089</td>\n",
       "      <td>...</td>\n",
       "      <td>13.01620</td>\n",
       "      <td>-54.40548</td>\n",
       "      <td>58.99367</td>\n",
       "      <td>15.37344</td>\n",
       "      <td>1.11144</td>\n",
       "      <td>-23.08793</td>\n",
       "      <td>68.40795</td>\n",
       "      <td>-1.82223</td>\n",
       "      <td>-27.46348</td>\n",
       "      <td>2.26327</td>\n",
       "    </tr>\n",
       "    <tr>\n",
       "      <th>1</th>\n",
       "      <td>2001</td>\n",
       "      <td>48.73215</td>\n",
       "      <td>18.42930</td>\n",
       "      <td>70.32679</td>\n",
       "      <td>12.94636</td>\n",
       "      <td>-10.32437</td>\n",
       "      <td>-24.83777</td>\n",
       "      <td>8.76630</td>\n",
       "      <td>-0.92019</td>\n",
       "      <td>18.76548</td>\n",
       "      <td>...</td>\n",
       "      <td>5.66812</td>\n",
       "      <td>-19.68073</td>\n",
       "      <td>33.04964</td>\n",
       "      <td>42.87836</td>\n",
       "      <td>-9.90378</td>\n",
       "      <td>-32.22788</td>\n",
       "      <td>70.49388</td>\n",
       "      <td>12.04941</td>\n",
       "      <td>58.43453</td>\n",
       "      <td>26.92061</td>\n",
       "    </tr>\n",
       "    <tr>\n",
       "      <th>2</th>\n",
       "      <td>2001</td>\n",
       "      <td>50.95714</td>\n",
       "      <td>31.85602</td>\n",
       "      <td>55.81851</td>\n",
       "      <td>13.41693</td>\n",
       "      <td>-6.57898</td>\n",
       "      <td>-18.54940</td>\n",
       "      <td>-3.27872</td>\n",
       "      <td>-2.35035</td>\n",
       "      <td>16.07017</td>\n",
       "      <td>...</td>\n",
       "      <td>3.03800</td>\n",
       "      <td>26.05866</td>\n",
       "      <td>-50.92779</td>\n",
       "      <td>10.93792</td>\n",
       "      <td>-0.07568</td>\n",
       "      <td>43.20130</td>\n",
       "      <td>-115.00698</td>\n",
       "      <td>-0.05859</td>\n",
       "      <td>39.67068</td>\n",
       "      <td>-0.66345</td>\n",
       "    </tr>\n",
       "    <tr>\n",
       "      <th>3</th>\n",
       "      <td>2001</td>\n",
       "      <td>48.24750</td>\n",
       "      <td>-1.89837</td>\n",
       "      <td>36.29772</td>\n",
       "      <td>2.58776</td>\n",
       "      <td>0.97170</td>\n",
       "      <td>-26.21683</td>\n",
       "      <td>5.05097</td>\n",
       "      <td>-10.34124</td>\n",
       "      <td>3.55005</td>\n",
       "      <td>...</td>\n",
       "      <td>34.57337</td>\n",
       "      <td>-171.70734</td>\n",
       "      <td>-16.96705</td>\n",
       "      <td>-46.67617</td>\n",
       "      <td>-12.51516</td>\n",
       "      <td>82.58061</td>\n",
       "      <td>-72.08993</td>\n",
       "      <td>9.90558</td>\n",
       "      <td>199.62971</td>\n",
       "      <td>18.85382</td>\n",
       "    </tr>\n",
       "    <tr>\n",
       "      <th>4</th>\n",
       "      <td>2001</td>\n",
       "      <td>50.97020</td>\n",
       "      <td>42.20998</td>\n",
       "      <td>67.09964</td>\n",
       "      <td>8.46791</td>\n",
       "      <td>-15.85279</td>\n",
       "      <td>-16.81409</td>\n",
       "      <td>-12.48207</td>\n",
       "      <td>-9.37636</td>\n",
       "      <td>12.63699</td>\n",
       "      <td>...</td>\n",
       "      <td>9.92661</td>\n",
       "      <td>-55.95724</td>\n",
       "      <td>64.92712</td>\n",
       "      <td>-17.72522</td>\n",
       "      <td>-1.49237</td>\n",
       "      <td>-7.50035</td>\n",
       "      <td>51.76631</td>\n",
       "      <td>7.88713</td>\n",
       "      <td>55.66926</td>\n",
       "      <td>28.74903</td>\n",
       "    </tr>\n",
       "  </tbody>\n",
       "</table>\n",
       "<p>5 rows × 91 columns</p>\n",
       "</div>"
      ],
      "text/plain": [
       "   Target    Feat_0    Feat_1    Feat_2    Feat_3    Feat_4    Feat_5  \\\n",
       "0    2001  49.94357  21.47114  73.07750   8.74861 -17.40628 -13.09905   \n",
       "1    2001  48.73215  18.42930  70.32679  12.94636 -10.32437 -24.83777   \n",
       "2    2001  50.95714  31.85602  55.81851  13.41693  -6.57898 -18.54940   \n",
       "3    2001  48.24750  -1.89837  36.29772   2.58776   0.97170 -26.21683   \n",
       "4    2001  50.97020  42.20998  67.09964   8.46791 -15.85279 -16.81409   \n",
       "\n",
       "     Feat_6    Feat_7    Feat_8  ...   Feat_80    Feat_81   Feat_82   Feat_83  \\\n",
       "0 -25.01202 -12.23257   7.83089  ...  13.01620  -54.40548  58.99367  15.37344   \n",
       "1   8.76630  -0.92019  18.76548  ...   5.66812  -19.68073  33.04964  42.87836   \n",
       "2  -3.27872  -2.35035  16.07017  ...   3.03800   26.05866 -50.92779  10.93792   \n",
       "3   5.05097 -10.34124   3.55005  ...  34.57337 -171.70734 -16.96705 -46.67617   \n",
       "4 -12.48207  -9.37636  12.63699  ...   9.92661  -55.95724  64.92712 -17.72522   \n",
       "\n",
       "    Feat_84   Feat_85    Feat_86   Feat_87    Feat_88   Feat_89  \n",
       "0   1.11144 -23.08793   68.40795  -1.82223  -27.46348   2.26327  \n",
       "1  -9.90378 -32.22788   70.49388  12.04941   58.43453  26.92061  \n",
       "2  -0.07568  43.20130 -115.00698  -0.05859   39.67068  -0.66345  \n",
       "3 -12.51516  82.58061  -72.08993   9.90558  199.62971  18.85382  \n",
       "4  -1.49237  -7.50035   51.76631   7.88713   55.66926  28.74903  \n",
       "\n",
       "[5 rows x 91 columns]"
      ]
     },
     "execution_count": 5,
     "metadata": {},
     "output_type": "execute_result"
    }
   ],
   "source": [
    "df.head()"
   ]
  },
  {
   "cell_type": "code",
   "execution_count": 6,
   "metadata": {},
   "outputs": [
    {
     "data": {
      "text/plain": [
       "<matplotlib.axes._subplots.AxesSubplot at 0x1a3311f0f0>"
      ]
     },
     "execution_count": 6,
     "metadata": {},
     "output_type": "execute_result"
    },
    {
     "data": {
      "image/png": "[encoded data removed]",
      "text/plain": [
       "<Figure size 432x288 with 1 Axes>"
      ]
     },
     "metadata": {},
     "output_type": "display_data"
    }
   ],
   "source": [
    "df.Target.hist()"
   ]
  },
  {
   "cell_type": "markdown",
   "metadata": {},
   "source": [
    "## Validation set\n",
    "Since we're fitting our model to data, we want to have an unbiased estimate of its performance to help optimise the architecture before we apply the model to the testing data. We can randomly sample a *validation* set from the training data.\n",
    "\n",
    "For this dataset, a specific split is recommended to avoid the same producer being in both training and validation, which could allow the model to cheat by recognising producers."
   ]
  },
  {
   "cell_type": "code",
   "execution_count": 7,
   "metadata": {},
   "outputs": [],
   "source": [
    "df_train,df_val = df[:463715],df[463715:]"
   ]
  },
  {
   "cell_type": "code",
   "execution_count": 8,
   "metadata": {},
   "outputs": [
    {
     "data": {
      "text/plain": [
       "51630"
      ]
     },
     "execution_count": 8,
     "metadata": {},
     "output_type": "execute_result"
    }
   ],
   "source": [
    "len(df_val)"
   ]
  },
  {
   "cell_type": "markdown",
   "metadata": {},
   "source": [
    "# Feature processing\n",
    "The data contains both continuous features (real values with numerical comparison) and categorical features (discreet values or string labels with no numerical comparison). Each need to be treated slightly differently."
   ]
  },
  {
   "cell_type": "code",
   "execution_count": 9,
   "metadata": {},
   "outputs": [],
   "source": [
    "train_feats = [f for f in df.columns if f != 'Target']"
   ]
  },
  {
   "cell_type": "markdown",
   "metadata": {},
   "source": [
    "## Continuous preprocessing\n",
    "The weight initialisation we use is optimal for inputs which are unit-Gaussian. The closest we can get is to shift and scale each feature to have mean zero and standard deviation one. `SK-Learn` has `Pipeline` classes to handle series of transformations to data, and we'll use the `StandardScaler` to transform the data."
   ]
  },
  {
   "cell_type": "code",
   "execution_count": 10,
   "metadata": {},
   "outputs": [],
   "source": [
    "input_pipe = Pipeline([('norm_in', StandardScaler(with_mean=True, with_std=True))])"
   ]
  },
  {
   "cell_type": "markdown",
   "metadata": {},
   "source": [
    "Next we need to fit the transformation to the data. Note the Boolean indexing of the data."
   ]
  },
  {
   "cell_type": "code",
   "execution_count": 11,
   "metadata": {},
   "outputs": [
    {
     "data": {
      "text/plain": [
       "Pipeline(memory=None,\n",
       "         steps=[('norm_in',\n",
       "                 StandardScaler(copy=True, with_mean=True, with_std=True))],\n",
       "         verbose=False)"
      ]
     },
     "execution_count": 11,
     "metadata": {},
     "output_type": "execute_result"
    }
   ],
   "source": [
    "input_pipe.fit(df_train[train_feats].values.astype('float32'))"
   ]
  },
  {
   "cell_type": "markdown",
   "metadata": {},
   "source": [
    "And finally apply the transformation to the training, validation, and testing data."
   ]
  },
  {
   "cell_type": "code",
   "execution_count": 12,
   "metadata": {},
   "outputs": [
    {
     "name": "stderr",
     "output_type": "stream",
     "text": [
      "/Users/giles/anaconda3/lib/python3.6/site-packages/ipykernel_launcher.py:1: SettingWithCopyWarning: \n",
      "A value is trying to be set on a copy of a slice from a DataFrame.\n",
      "Try using .loc[row_indexer,col_indexer] = value instead\n",
      "\n",
      "See the caveats in the documentation: https://pandas.pydata.org/pandas-docs/stable/user_guide/indexing.html#returning-a-view-versus-a-copy\n",
      "  \"\"\"Entry point for launching an IPython kernel.\n",
      "/Users/giles/anaconda3/lib/python3.6/site-packages/pandas/core/indexing.py:964: SettingWithCopyWarning: \n",
      "A value is trying to be set on a copy of a slice from a DataFrame.\n",
      "Try using .loc[row_indexer,col_indexer] = value instead\n",
      "\n",
      "See the caveats in the documentation: https://pandas.pydata.org/pandas-docs/stable/user_guide/indexing.html#returning-a-view-versus-a-copy\n",
      "  self.obj[item] = s\n",
      "/Users/giles/anaconda3/lib/python3.6/site-packages/ipykernel_launcher.py:2: SettingWithCopyWarning: \n",
      "A value is trying to be set on a copy of a slice from a DataFrame.\n",
      "Try using .loc[row_indexer,col_indexer] = value instead\n",
      "\n",
      "See the caveats in the documentation: https://pandas.pydata.org/pandas-docs/stable/user_guide/indexing.html#returning-a-view-versus-a-copy\n",
      "  \n",
      "/Users/giles/anaconda3/lib/python3.6/site-packages/pandas/core/indexing.py:964: SettingWithCopyWarning: \n",
      "A value is trying to be set on a copy of a slice from a DataFrame.\n",
      "Try using .loc[row_indexer,col_indexer] = value instead\n",
      "\n",
      "See the caveats in the documentation: https://pandas.pydata.org/pandas-docs/stable/user_guide/indexing.html#returning-a-view-versus-a-copy\n",
      "  self.obj[item] = s\n"
     ]
    }
   ],
   "source": [
    "df_train[train_feats] = input_pipe.transform(df_train[train_feats].values.astype('float32'))\n",
    "df_val[train_feats]   = input_pipe.transform(df_val[train_feats].values.astype('float32'))"
   ]
  },
  {
   "cell_type": "markdown",
   "metadata": {},
   "source": [
    "We can check the transformation by plotting an example feature"
   ]
  },
  {
   "cell_type": "code",
   "execution_count": 13,
   "metadata": {},
   "outputs": [
    {
     "data": {
      "text/plain": [
       "<matplotlib.axes._subplots.AxesSubplot at 0x1a178ddeb8>"
      ]
     },
     "execution_count": 13,
     "metadata": {},
     "output_type": "execute_result"
    },
    {
     "data": {
      "image/png": "[encoded data removed]",
      "text/plain": [
       "<Figure size 432x288 with 1 Axes>"
      ]
     },
     "metadata": {},
     "output_type": "display_data"
    }
   ],
   "source": [
    "df.Feat_0.hist()"
   ]
  },
  {
   "cell_type": "markdown",
   "metadata": {},
   "source": [
    "# Model \n",
    "Now we need to build a model to fit to the data. Use the previous two example notebooks to help write a function which returns an appropriate model."
   ]
  },
  {
   "cell_type": "code",
   "execution_count": 14,
   "metadata": {},
   "outputs": [],
   "source": [
    "class NPDataset(Dataset):\n",
    "    r'''\n",
    "    Dataset for dealing with Numpy arrays\n",
    "    \n",
    "    Arguments:\n",
    "        x: input data\n",
    "        y: Optional target data\n",
    "        shuffle: whether to shuffle input and target data prior to iteration\n",
    "        bulk_move: whether to move entire dataset to device at start of iteration (quicker) or move batch by batch (memory efficient)\n",
    "        bs: batchsize, number of datapoints per minibatch\n",
    "        device: set to either cuda or cpu, or leave as None for cuda if available else cpu\n",
    "        drop_last: whether to drop last batch if it is smaller than bs\n",
    "    '''\n",
    "    \n",
    "    def __init__(self, x:np.ndarray, y:Optional[np.ndarray]=None, shuffle:bool=True, bulk_move:bool=True, bs:int=64,\n",
    "                 device:Optional[torch.device]=None, drop_last:bool=True):\n",
    "        self.shuffle,self.bulk_move,self.bs,self.drop_last = shuffle,bulk_move,bs,drop_last\n",
    "        if device is None: self.device = torch.device('cuda') if torch.cuda.is_available() else torch.device('cpu')\n",
    "        else:              self.device = device\n",
    "        self.x = x.astype('float32')\n",
    "        if len(self.x.shape) == 1: self.x = self.x[:,None]\n",
    "        if y is None:\n",
    "            self.y = y\n",
    "        else:\n",
    "            self.y = y.astype('float32')\n",
    "            if len(self.y.shape) == 1: self.y = self.y[:,None]\n",
    "\n",
    "    def __len__(self) -> int:\n",
    "        r'''\n",
    "        Returns the number of datapoints in the dataset\n",
    "        '''\n",
    "        \n",
    "        return len(self.x)\n",
    "\n",
    "    def __getitem__(self, idx:int) -> Tuple[Any,Any]:\n",
    "        r'''\n",
    "        Returns a single datapoint at the requested index\n",
    "        '''\n",
    "        \n",
    "        if self.y is None: return self.x[idx]\n",
    "        else:              return self.x[idx], self.y[idx]\n",
    "        \n",
    "    def __iter__(self) -> Tuple[Tensor,Tensor]:\n",
    "        r'''\n",
    "        Iterates through the entire (shuffled) dataset, yielding minibatches of Tensors on device\n",
    "        '''\n",
    "        \n",
    "        if self.shuffle:\n",
    "            data = list(zip(self.x, self.y))\n",
    "            np.random.shuffle(data)\n",
    "            inputs, targets = zip(*data)\n",
    "        else:\n",
    "            inputs, targets = self.x, self.y\n",
    "            \n",
    "        if self.bulk_move:  # Moves entire dataset to device\n",
    "            inputs  = Tensor(inputs).to(self.device)\n",
    "            if targets is not None: targets = Tensor(targets).to(self.device)\n",
    "            if self.drop_last:\n",
    "                for i in range(0, len(inputs)-self.bs+1, self.bs):\n",
    "                    if targets is not None: yield inputs[i:i+self.bs], targets[i:i+self.bs]\n",
    "                    else:                   yield inputs[i:i+self.bs]\n",
    "            else:\n",
    "                for i in range(0, len(inputs)+1, self.bs):\n",
    "                    if targets is not None:\n",
    "                        if i+self.bs < len(inputs): yield inputs[i:i+self.bs], targets[i:i+self.bs]\n",
    "                        else:                       yield inputs[i:],          targets[i:]\n",
    "                    else:\n",
    "                        if i+self.bs < len(inputs): yield inputs[i:i+self.bs]\n",
    "                        else:                       yield inputs[i:]\n",
    "        else:\n",
    "            if self.drop_last:\n",
    "                for i in range(0, len(inputs)-self.bs+1, self.bs):\n",
    "                    if targets is not None:\n",
    "                        yield Tensor(inputs[i:i+self.bs]).to(self.device), Tensor(targets[i:i+self.bs]).to(self.device)\n",
    "                    else:\n",
    "                        yield Tensor(inputs[i:i+self.bs]).to(self.device)\n",
    "            else:\n",
    "                for i in range(0, len(inputs)+1, self.bs):\n",
    "                    if targets is not None:\n",
    "                        if i+self.bs < len(inputs):\n",
    "                            yield Tensor(inputs[i:i+self.bs]).to(self.device), Tensor(targets[i:i+self.bs]).to(self.device)\n",
    "                        else:\n",
    "                            yield Tensor(inputs[i:]).to(self.device),          Tensor(targets[i:]).to(self.device)\n",
    "                    else:\n",
    "                        if i+self.bs < len(inputs): yield Tensor(inputs[i:i+self.bs]).to(self.device)\n",
    "                        else:                       yield Tensor(inputs[i:]).to(self.device)                "
   ]
  },
  {
   "cell_type": "code",
   "execution_count": 21,
   "metadata": {},
   "outputs": [],
   "source": [
    "class NN(nn.Module):\n",
    "    r'''\n",
    "    Full-connected neural network with user-defined depth and width (same width for all dense layers).\n",
    "    User-configurable output activation function (None for regression, nn.Sigmoid for classification).\n",
    "    Internal activations are nn.ReLU\n",
    "    \n",
    "    Arguments:\n",
    "        n_int: number of inputs\n",
    "        depth: number of hidden layers\n",
    "        width: size of hidden layers\n",
    "        n_out: width of output layer\n",
    "        out_act: activation function for output layer (if any)\n",
    "    '''\n",
    "    \n",
    "    def __init__(self, n_in:int, depth:int, width:int, n_out:int, out_act:Optional[Callable[[],nn.Module]],\n",
    "                 do:Optional[float]=None):\n",
    "        super().__init__()  # nn.Module.__init__ must always be called to correctly initialise class\n",
    "        if out_act is None: out_act = lambda: None\n",
    "        if do is None: do = 0\n",
    "        self.layers = nn.Sequential(*[self._get_layer(n_in      = n_in      if d   == 0       else width,\n",
    "                                                      n_out     = width     if d <  depth else n_out,\n",
    "                                                      act       = nn.ReLU() if d <  depth else out_act(),\n",
    "                                                      out_layer = d == depth,\n",
    "                                                      do        = do)\n",
    "                                      for d in range(depth+1)])\n",
    "        \n",
    "    @staticmethod\n",
    "    def _get_layer(n_in:int, n_out:int, act:Optional[nn.Module], out_layer:bool, do:float) -> nn.Sequential:\n",
    "        r'''\n",
    "        Returns a correctly initialised dense layer and optionally an activation layer, as a Sequential model\n",
    "        '''\n",
    "        \n",
    "        layers = []\n",
    "        \n",
    "        # Create a single layer and initialise weights and biases\n",
    "        layers.append(nn.Linear(n_in, n_out))\n",
    "        if out_layer: nn.init.xavier_normal_(layers[-1].weight)\n",
    "        else:         nn.init.kaiming_normal_(layers[-1].weight, nonlinearity='relu')\n",
    "        nn.init.zeros_(layers[-1].bias)\n",
    "        if act is not None: layers.append(act)\n",
    "        if not out_layer and do > 0: layers.append(nn.Dropout(do))\n",
    "        return nn.Sequential(*layers)\n",
    "    \n",
    "    def forward(self, x:Tensor) -> Tensor:\n",
    "        r'''\n",
    "        Passing input tensor through the neural network and returns the output\n",
    "        '''\n",
    "        \n",
    "        return self.layers(x)"
   ]
  },
  {
   "cell_type": "code",
   "execution_count": 22,
   "metadata": {},
   "outputs": [],
   "source": [
    "class Model():\n",
    "    r'''\n",
    "    Class wrapping a neural network (nn.Module) providing fitting and prediction methods\n",
    "    Automatically saves the best model during training.\n",
    "    \n",
    "    Arguments:\n",
    "        model: the network to wrap\n",
    "        device: set to either cuda or cpu, or leave as None for cuda if available else cpu\n",
    "        bulk_move: whether to move entire dataset to device at start of iteration (quicker) or move batch by batch (memory efficient)\n",
    "    '''\n",
    "    \n",
    "    def __init__(self, model:nn.Module, device:Optional[torch.device]=None, bulk_move:bool=True):\n",
    "        if device is None: self.device = torch.device('cuda') if torch.cuda.is_available() else torch.device('cpu')\n",
    "        else:              self.device = device\n",
    "        self.model = self.to_device(model, self.device)\n",
    "        self.opt = optim.AdamW(self.model.parameters())\n",
    "        self._n_out = self.get_n_out()\n",
    "        self.bulk_move = bulk_move\n",
    "        \n",
    "    def __repr__(self) -> str:\n",
    "        return f'''Model:\\n{self.model}\n",
    "        \\n\\nNumber of trainable parameters: {sum(p.numel() for p in self.model.parameters() if p.requires_grad)}\n",
    "        \\n\\nOptimiser:\\n{self.opt}\n",
    "        '''\n",
    "    \n",
    "    def get_n_out(self) -> None:\n",
    "        r'''\n",
    "        Gets the number of outputs of the network\n",
    "        '''\n",
    "        \n",
    "        l = deque(self.model.parameters(), maxlen=1).pop()\n",
    "        return len(l.shape)\n",
    "    \n",
    "    @staticmethod\n",
    "    def to_device(x:Union[Tensor,List[Tensor]], device:torch.device) -> Union[Tensor,List[Tensor]]:\n",
    "        r'''\n",
    "        Recursively places Tensor(s) onto device\n",
    "\n",
    "        Arguments:\n",
    "            x: Tensor(s) to place on device\n",
    "\n",
    "        Returns:\n",
    "            Tensor(s) on device\n",
    "        '''\n",
    "\n",
    "        if x is None: return x\n",
    "        if isinstance(x, list): return [Model.to_device(o, device) for o in x]\n",
    "        return x.to(device)\n",
    "    \n",
    "    @staticmethod\n",
    "    def to_np(x:Tensor) -> np.ndarray:\n",
    "        r'''\n",
    "        Converts Tensor x to a Numpy array\n",
    "\n",
    "        Arguments:\n",
    "            x: Tensor to convert\n",
    "\n",
    "        Returns:\n",
    "            x as a Numpy array\n",
    "        '''\n",
    "\n",
    "        return x.cpu().detach().numpy()\n",
    "    \n",
    "    def set_lr(self, lr:float) -> None:\n",
    "        r'''\n",
    "        Sets learning rate of optimiser\n",
    "        '''\n",
    "\n",
    "        self.opt.param_groups[0]['lr'] = lr\n",
    "        \n",
    "    def set_wd(self, wd:float) -> None:\n",
    "        r'''\n",
    "        Sets weight decay parameter for optimiser\n",
    "        '''\n",
    "\n",
    "        self.opt.param_groups[0]['weight_decay'] = wd\n",
    "    \n",
    "    def fit(self, x:np.ndarray, y:np.ndarray,\n",
    "            lr:float, batchsize:int, loss_fn:_Loss, n_epochs:int, wd:Optional[float]=None,\n",
    "            x_val:Optional[np.ndarray]=None, y_val:Optional[np.ndarray]=None) -> Tuple[List[float],List[float]]:\n",
    "        r'''\n",
    "        Fits model to data (optionally using validation data) for a set number of epochs.\n",
    "        Automatically tracks best performance and loads best model at end of training\n",
    "        \n",
    "        Arguments:\n",
    "            x: training inputs\n",
    "            y: training targets\n",
    "            lr: learning rate\n",
    "            batchsize: size of minibatches\n",
    "            loss_fn: Loss function to use\n",
    "            n_epochs: number of epochs to train\n",
    "            wd: amount of weight decay penalisation\n",
    "            x_val: optional validation inputs\n",
    "            y_val: optional validation targets\n",
    "        \n",
    "        Returns:\n",
    "            Tuple of train and validation losses\n",
    "        '''\n",
    "        \n",
    "        def save_best(loss:float, best_loss:float) -> float:\n",
    "            if loss < best_loss:\n",
    "                best_loss = loss\n",
    "                print(f'New best loss of {best_loss:.3E}')\n",
    "                self.save(\"best.h5\")\n",
    "            return best_loss\n",
    "        \n",
    "        self.model.train()  # Put model into train mode (local gradients saved during forward pass, dropout active, etc.)\n",
    "        trn_losses,val_losses = [],[]\n",
    "        trn_dl = NPDataset(x,y, bs=batchsize, shuffle=True, bulk_move=self.bulk_move)\n",
    "        if wd is None: wd = 0\n",
    "        self.set_wd(wd)\n",
    "        self.set_lr(lr)\n",
    "        best_loss = math.inf\n",
    "        \n",
    "        epoch_pb = progress_bar(range(n_epochs), display=True, leave=True)\n",
    "        for e in epoch_pb:\n",
    "            losses = []  # Holder for losses during epoch\n",
    "            for x, y in trn_dl:  # Loop over batches\n",
    "                x,y = self.to_device(x, self.device),self.to_device(y, self.device)  # Put data on device\n",
    "                y_pred = self.model(x)  # Run forward pass of network and get prediction\n",
    "                loss = loss_fn(y_pred, y)  # Compute loss of prediction\n",
    "                losses.append(loss.data.item())  # Get value of loss\n",
    "                self.opt.zero_grad()  # Reset recorded gradients\n",
    "                loss.backward()  # Propagate loss gradient backwards through network\n",
    "                self.opt.step()  # Perform one update step to network parameters\n",
    "            \n",
    "            trn_losses.append(np.mean(losses))\n",
    "            if x_val is not None:\n",
    "                val_losses.append(self.evaluate(x_val,y_val, batchsize=batchsize, loss_fn=loss_fn))\n",
    "                epoch_pb.comment = f'Epoch {e+1}, best loss: {np.min(val_losses):.4E}'\n",
    "                best_loss = save_best(val_losses[-1], best_loss)\n",
    "            else:\n",
    "                epoch_pb.comment = f'Epoch {e+1}, best loss: {np.min(trn_losses):.4E}'\n",
    "                best_loss = save_best(trn_losses[-1], best_loss)\n",
    "        \n",
    "        print(f'Fit complete loading best model with loss of {best_loss:.3E}')\n",
    "        self.load(\"best.h5\")\n",
    "        self.plot_train_history([trn_losses,val_losses])\n",
    "        return trn_losses,val_losses\n",
    "    \n",
    "    def save(self, filename:Union[Path,str]) -> None:\n",
    "        torch.save({'model':self.model.state_dict(), 'opt':self.opt.state_dict()}, str(filename))\n",
    "        \n",
    "    def load(self, filename:Union[Path,str]) -> None:\n",
    "        state = torch.load(str(filename), map_location=self.device.type)\n",
    "        self.model.load_state_dict(state['model'])\n",
    "        self.opt.load_state_dict(state['opt'])\n",
    "    \n",
    "    @staticmethod\n",
    "    def plot_train_history(history:Tuple[List[float],List[float]]) -> None:\n",
    "        r'''\n",
    "        Plots loss evolution as a function of training epoch\n",
    "        '''\n",
    "        plt.figure(figsize=(16,9))\n",
    "        plt.plot(history[0], label='Training')\n",
    "        if len(history[1]) > 0:\n",
    "            plt.plot(history[1], label='Validation')\n",
    "            plt.vlines(np.argmin(history[1]), ymin=np.min(history[0]), ymax=np.max(history[0]), linestyles='--')\n",
    "        else:\n",
    "            plt.vlines(np.argmin(history[0]), ymin=np.min(history[0]), ymax=np.max(history[0]), linestyles='--')\n",
    "        plt.legend(loc='upper right', fontsize=16)\n",
    "        if history[0][0]/np.min(history[0]) > 50: plt.yscale('log', nonposy='clip')\n",
    "        plt.grid(True, which=\"both\")\n",
    "        plt.xticks(fontsize=16)\n",
    "        plt.yticks(fontsize=16)\n",
    "        plt.xlabel(\"Epoch\", fontsize=24)\n",
    "        plt.ylabel(\"Loss\", fontsize=24)\n",
    "        plt.show()\n",
    "    \n",
    "    def evaluate(self, x:np.ndarray, y:np.ndarray, batchsize:int, loss_fn:_Loss) -> float:\n",
    "        r'''\n",
    "        Computes mean loss on network predicitons for data\n",
    "        '''\n",
    "        \n",
    "        self.model.eval()  # Put model into eval mode no grads saved, dropout turned off, etc.\n",
    "        loss = []\n",
    "        dl = NPDataset(x,y, bs=batchsize, shuffle=True, bulk_move=self.bulk_move, device=self.device)\n",
    "        for x, y in dl:  # Loop over batches\n",
    "            x,y = self.to_device(x, self.device),self.to_device(y, self.device)  # Put data on device\n",
    "            y_pred = self.model(x)  # Run forward pass of network and get prediction\n",
    "            loss.append(loss_fn(y_pred, y).data.item())  # Get value of loss\n",
    "        return np.mean(loss)\n",
    "    \n",
    "    def predict(self, x:np.ndarray, batchsize:Optional[int]=None) -> np.ndarray:\n",
    "        r'''\n",
    "        Computes preditions for network on data\n",
    "        '''\n",
    "        \n",
    "        self.model.eval()  # Put model into eval mode no grads saved, dropout turned off, etc.\n",
    "        if batchsize is None:  # Compute all predictions at once\n",
    "            x = x.astype('float32')\n",
    "            if len(x.shape) == 1: x = x[:,None]\n",
    "            preds = self.model(self.to_device(Tensor(x), self.device))\n",
    "        else:\n",
    "            dl = NPDataset(x, bs=batchsize, shuffle=False, bulk_move=self.bulk_move, drop_last=False, device=self.device)\n",
    "            preds = torch.zeros((len(x),self._n_out), device=self.device)\n",
    "            for i, x in enumerate(progress_bar(dl, leave=True)):  # Loop over batches\n",
    "                x = self.to_device(x, self.device)  # Put inputs on device\n",
    "                ps = self.model(x)  # Run forward pass of network and get prediction\n",
    "                if len(ps) == batchsize: preds[i*batchsize:(1+i)*batchsize] = ps\n",
    "                else:                    preds[i*batchsize:]                = ps  # Last batch\n",
    "        return self.to_np(preds)"
   ]
  },
  {
   "cell_type": "code",
   "execution_count": 26,
   "metadata": {
    "scrolled": false
   },
   "outputs": [
    {
     "data": {
      "text/plain": [
       "Model:\n",
       "NN(\n",
       "  (layers): Sequential(\n",
       "    (0): Sequential(\n",
       "      (0): Linear(in_features=90, out_features=100, bias=True)\n",
       "      (1): ReLU()\n",
       "      (2): Dropout(p=0.1, inplace=False)\n",
       "    )\n",
       "    (1): Sequential(\n",
       "      (0): Linear(in_features=100, out_features=100, bias=True)\n",
       "      (1): ReLU()\n",
       "      (2): Dropout(p=0.1, inplace=False)\n",
       "    )\n",
       "    (2): Sequential(\n",
       "      (0): Linear(in_features=100, out_features=100, bias=True)\n",
       "      (1): ReLU()\n",
       "      (2): Dropout(p=0.1, inplace=False)\n",
       "    )\n",
       "    (3): Sequential(\n",
       "      (0): Linear(in_features=100, out_features=100, bias=True)\n",
       "      (1): ReLU()\n",
       "      (2): Dropout(p=0.1, inplace=False)\n",
       "    )\n",
       "    (4): Sequential(\n",
       "      (0): Linear(in_features=100, out_features=1, bias=True)\n",
       "    )\n",
       "  )\n",
       ")\n",
       "        \n",
       "\n",
       "Number of trainable parameters: 39501\n",
       "        \n",
       "\n",
       "Optimiser:\n",
       "AdamW (\n",
       "Parameter Group 0\n",
       "    amsgrad: False\n",
       "    betas: (0.9, 0.999)\n",
       "    eps: 1e-08\n",
       "    lr: 0.001\n",
       "    weight_decay: 0.01\n",
       ")\n",
       "        "
      ]
     },
     "execution_count": 26,
     "metadata": {},
     "output_type": "execute_result"
    }
   ],
   "source": [
    "model = Model(NN(n_in=len(train_feats), depth=4, width=100, n_out=1, out_act=None, do=0.1)); model"
   ]
  },
  {
   "cell_type": "code",
   "execution_count": 24,
   "metadata": {},
   "outputs": [],
   "source": [
    "x, y = df_train[train_feats].values, df_train.Target.values\n",
    "x_val, y_val = df_val[train_feats].values, df_val.Target.values"
   ]
  },
  {
   "cell_type": "code",
   "execution_count": 27,
   "metadata": {},
   "outputs": [
    {
     "data": {
      "text/html": [
       "\n",
       "    <div>\n",
       "        <style>\n",
       "            /* Turns off some styling */\n",
       "            progress {\n",
       "                /* gets rid of default border in Firefox and Opera. */\n",
       "                border: none;\n",
       "                /* Needs to be in here for Safari polyfill so background images work as expected. */\n",
       "                background-size: auto;\n",
       "            }\n",
       "            .progress-bar-interrupted, .progress-bar-interrupted::-webkit-progress-bar {\n",
       "                background: #F44336;\n",
       "            }\n",
       "        </style>\n",
       "      <progress value='15' class='' max='15', style='width:300px; height:20px; vertical-align: middle;'></progress>\n",
       "      100.00% [15/15 04:05<00:00 Epoch 15, best loss: 8.2486E+01]\n",
       "    </div>\n",
       "    "
      ],
      "text/plain": [
       "<IPython.core.display.HTML object>"
      ]
     },
     "metadata": {},
     "output_type": "display_data"
    },
    {
     "name": "stdout",
     "output_type": "stream",
     "text": [
      "New best loss of 4.268E+02\n",
      "New best loss of 1.045E+02\n",
      "New best loss of 9.909E+01\n",
      "New best loss of 9.846E+01\n",
      "New best loss of 8.308E+01\n",
      "New best loss of 8.305E+01\n",
      "New best loss of 8.249E+01\n",
      "Fit complete loading best model with loss of 8.249E+01\n"
     ]
    },
    {
     "data": {
      "image/png": "[encoded data removed]",
      "text/plain": [
       "<Figure size 1152x648 with 1 Axes>"
      ]
     },
     "metadata": {},
     "output_type": "display_data"
    }
   ],
   "source": [
    "hist = model.fit(x=x, y=y, x_val=x_val, y_val=y_val, batchsize=128, n_epochs=15, lr=2e-3, wd=1e-7, loss_fn=MSELoss())"
   ]
  },
  {
   "cell_type": "markdown",
   "metadata": {},
   "source": [
    "# Tricks"
   ]
  },
  {
   "cell_type": "markdown",
   "metadata": {},
   "source": [
    "Unlike classification, where the target values are between 0 and 1, in regression the targets can be any real number.\n",
    "Since we are initialising the neural networks to expect inputs in the region [-1,1] and to produce unit-Gaussian outputs, the final layer has to do a lot of work to shift the unit-Gaussian input to the range and scale of our target data. This also means that during the first few epochs, we can get some extremely large gradients flowing through the network, since the initial predictions could be several orders of magnitude out."
   ]
  },
  {
   "cell_type": "markdown",
   "metadata": {},
   "source": [
    "## Bias initialisation\n",
    "One solution is to set the bias on the output layer to an appropriate value, such as the mean value of the training targets. As we saw during the `SGD_from_scratch` notebook, the first few updates focus on setting the bias, so we can speed up convergence by setting it beforehand. The network will now initially output a unit-Gaussian centred aroung the bias value, so it doesn't help with the range of the targets."
   ]
  },
  {
   "cell_type": "code",
   "execution_count": 40,
   "metadata": {
    "scrolled": false
   },
   "outputs": [
    {
     "data": {
      "text/plain": [
       "Model:\n",
       "NN(\n",
       "  (layers): Sequential(\n",
       "    (0): Sequential(\n",
       "      (0): Linear(in_features=90, out_features=100, bias=True)\n",
       "      (1): ReLU()\n",
       "      (2): Dropout(p=0.1, inplace=False)\n",
       "    )\n",
       "    (1): Sequential(\n",
       "      (0): Linear(in_features=100, out_features=100, bias=True)\n",
       "      (1): ReLU()\n",
       "      (2): Dropout(p=0.1, inplace=False)\n",
       "    )\n",
       "    (2): Sequential(\n",
       "      (0): Linear(in_features=100, out_features=100, bias=True)\n",
       "      (1): ReLU()\n",
       "      (2): Dropout(p=0.1, inplace=False)\n",
       "    )\n",
       "    (3): Sequential(\n",
       "      (0): Linear(in_features=100, out_features=100, bias=True)\n",
       "      (1): ReLU()\n",
       "      (2): Dropout(p=0.1, inplace=False)\n",
       "    )\n",
       "    (4): Sequential(\n",
       "      (0): Linear(in_features=100, out_features=1, bias=True)\n",
       "    )\n",
       "  )\n",
       ")\n",
       "        \n",
       "\n",
       "Number of trainable parameters: 39501\n",
       "        \n",
       "\n",
       "Optimiser:\n",
       "AdamW (\n",
       "Parameter Group 0\n",
       "    amsgrad: False\n",
       "    betas: (0.9, 0.999)\n",
       "    eps: 1e-08\n",
       "    lr: 0.001\n",
       "    weight_decay: 0.01\n",
       ")\n",
       "        "
      ]
     },
     "execution_count": 40,
     "metadata": {},
     "output_type": "execute_result"
    }
   ],
   "source": [
    "model = Model(NN(n_in=len(train_feats), depth=4, width=100, n_out=1, out_act=None, do=0.1)); model"
   ]
  },
  {
   "cell_type": "code",
   "execution_count": 43,
   "metadata": {},
   "outputs": [
    {
     "data": {
      "text/plain": [
       "Parameter containing:\n",
       "tensor([0.], requires_grad=True)"
      ]
     },
     "execution_count": 43,
     "metadata": {},
     "output_type": "execute_result"
    }
   ],
   "source": [
    "model.model.layers[-1][-1].bias"
   ]
  },
  {
   "cell_type": "code",
   "execution_count": 46,
   "metadata": {},
   "outputs": [
    {
     "data": {
      "text/plain": [
       "Parameter containing:\n",
       "tensor([1998.3861], requires_grad=True)"
      ]
     },
     "execution_count": 46,
     "metadata": {},
     "output_type": "execute_result"
    }
   ],
   "source": [
    "nn.init.constant_(model.model.layers[-1][-1].bias, val=y.mean())"
   ]
  },
  {
   "cell_type": "code",
   "execution_count": 47,
   "metadata": {},
   "outputs": [
    {
     "data": {
      "text/plain": [
       "Parameter containing:\n",
       "tensor([1998.3861], requires_grad=True)"
      ]
     },
     "execution_count": 47,
     "metadata": {},
     "output_type": "execute_result"
    }
   ],
   "source": [
    "model.model.layers[-1][-1].bias"
   ]
  },
  {
   "cell_type": "code",
   "execution_count": 48,
   "metadata": {},
   "outputs": [
    {
     "data": {
      "text/html": [
       "\n",
       "    <div>\n",
       "        <style>\n",
       "            /* Turns off some styling */\n",
       "            progress {\n",
       "                /* gets rid of default border in Firefox and Opera. */\n",
       "                border: none;\n",
       "                /* Needs to be in here for Safari polyfill so background images work as expected. */\n",
       "                background-size: auto;\n",
       "            }\n",
       "            .progress-bar-interrupted, .progress-bar-interrupted::-webkit-progress-bar {\n",
       "                background: #F44336;\n",
       "            }\n",
       "        </style>\n",
       "      <progress value='15' class='' max='15', style='width:300px; height:20px; vertical-align: middle;'></progress>\n",
       "      100.00% [15/15 04:05<00:00 Epoch 15, best loss: 7.8003E+01]\n",
       "    </div>\n",
       "    "
      ],
      "text/plain": [
       "<IPython.core.display.HTML object>"
      ]
     },
     "metadata": {},
     "output_type": "display_data"
    },
    {
     "name": "stdout",
     "output_type": "stream",
     "text": [
      "New best loss of 7.939E+01\n",
      "New best loss of 7.821E+01\n",
      "New best loss of 7.800E+01\n",
      "Fit complete loading best model with loss of 7.800E+01\n"
     ]
    },
    {
     "data": {
      "image/png": "[encoded data removed]",
      "text/plain": [
       "<Figure size 1152x648 with 1 Axes>"
      ]
     },
     "metadata": {},
     "output_type": "display_data"
    }
   ],
   "source": [
    "hist = model.fit(x=x, y=y, x_val=x_val, y_val=y_val, batchsize=128, n_epochs=15, lr=2e-3, wd=1e-7, loss_fn=MSELoss())"
   ]
  },
  {
   "cell_type": "markdown",
   "metadata": {},
   "source": [
    "So, convergence took 4 epochs instead of 15."
   ]
  },
  {
   "cell_type": "markdown",
   "metadata": {},
   "source": [
    "## Preprocess targets\n",
    "Another approach is to preprocess the targets to have mean zero and standard deviation 1, like we did with the inputs. The network can now be trained on the preocessed targets, and then for actual prediction, the network outputs can be inverse-transformed to the actual target range. This solves both the range and scale problems, but adds some extra steps."
   ]
  },
  {
   "cell_type": "code",
   "execution_count": 49,
   "metadata": {
    "scrolled": false
   },
   "outputs": [
    {
     "data": {
      "text/plain": [
       "Model:\n",
       "NN(\n",
       "  (layers): Sequential(\n",
       "    (0): Sequential(\n",
       "      (0): Linear(in_features=90, out_features=100, bias=True)\n",
       "      (1): ReLU()\n",
       "      (2): Dropout(p=0.1, inplace=False)\n",
       "    )\n",
       "    (1): Sequential(\n",
       "      (0): Linear(in_features=100, out_features=100, bias=True)\n",
       "      (1): ReLU()\n",
       "      (2): Dropout(p=0.1, inplace=False)\n",
       "    )\n",
       "    (2): Sequential(\n",
       "      (0): Linear(in_features=100, out_features=100, bias=True)\n",
       "      (1): ReLU()\n",
       "      (2): Dropout(p=0.1, inplace=False)\n",
       "    )\n",
       "    (3): Sequential(\n",
       "      (0): Linear(in_features=100, out_features=100, bias=True)\n",
       "      (1): ReLU()\n",
       "      (2): Dropout(p=0.1, inplace=False)\n",
       "    )\n",
       "    (4): Sequential(\n",
       "      (0): Linear(in_features=100, out_features=1, bias=True)\n",
       "    )\n",
       "  )\n",
       ")\n",
       "        \n",
       "\n",
       "Number of trainable parameters: 39501\n",
       "        \n",
       "\n",
       "Optimiser:\n",
       "AdamW (\n",
       "Parameter Group 0\n",
       "    amsgrad: False\n",
       "    betas: (0.9, 0.999)\n",
       "    eps: 1e-08\n",
       "    lr: 0.001\n",
       "    weight_decay: 0.01\n",
       ")\n",
       "        "
      ]
     },
     "execution_count": 49,
     "metadata": {},
     "output_type": "execute_result"
    }
   ],
   "source": [
    "model = Model(NN(n_in=len(train_feats), depth=4, width=100, n_out=1, out_act=None, do=0.1)); model"
   ]
  },
  {
   "cell_type": "code",
   "execution_count": 56,
   "metadata": {},
   "outputs": [],
   "source": [
    "output_pipe = Pipeline([('norm_out', StandardScaler(with_mean=True, with_std=True))])\n",
    "output_pipe.fit(y[:,None])\n",
    "y_proc     = output_pipe.transform(y[:,None])\n",
    "y_val_proc = output_pipe.transform(y_val[:,None])"
   ]
  },
  {
   "cell_type": "code",
   "execution_count": 60,
   "metadata": {},
   "outputs": [
    {
     "data": {
      "text/html": [
       "\n",
       "    <div>\n",
       "        <style>\n",
       "            /* Turns off some styling */\n",
       "            progress {\n",
       "                /* gets rid of default border in Firefox and Opera. */\n",
       "                border: none;\n",
       "                /* Needs to be in here for Safari polyfill so background images work as expected. */\n",
       "                background-size: auto;\n",
       "            }\n",
       "            .progress-bar-interrupted, .progress-bar-interrupted::-webkit-progress-bar {\n",
       "                background: #F44336;\n",
       "            }\n",
       "        </style>\n",
       "      <progress value='15' class='' max='15', style='width:300px; height:20px; vertical-align: middle;'></progress>\n",
       "      100.00% [15/15 04:10<00:00 Epoch 15, best loss: 6.4411E-01]\n",
       "    </div>\n",
       "    "
      ],
      "text/plain": [
       "<IPython.core.display.HTML object>"
      ]
     },
     "metadata": {},
     "output_type": "display_data"
    },
    {
     "name": "stdout",
     "output_type": "stream",
     "text": [
      "New best loss of 6.636E-01\n",
      "New best loss of 6.525E-01\n",
      "New best loss of 6.505E-01\n",
      "New best loss of 6.441E-01\n",
      "Fit complete loading best model with loss of 6.441E-01\n"
     ]
    },
    {
     "data": {
      "image/png": "[encoded data removed]",
      "text/plain": [
       "<Figure size 1152x648 with 1 Axes>"
      ]
     },
     "metadata": {},
     "output_type": "display_data"
    }
   ],
   "source": [
    "hist = model.fit(x=x, y=y_proc, x_val=x_val, y_val=y_val_proc, batchsize=128, n_epochs=15, lr=2e-3, wd=1e-7,\n",
    "                 loss_fn=MSELoss())"
   ]
  },
  {
   "cell_type": "code",
   "execution_count": 61,
   "metadata": {},
   "outputs": [],
   "source": [
    "from sklearn.metrics import mean_squared_error"
   ]
  },
  {
   "cell_type": "code",
   "execution_count": 62,
   "metadata": {},
   "outputs": [
    {
     "data": {
      "text/plain": [
       "77.0781047350439"
      ]
     },
     "execution_count": 62,
     "metadata": {},
     "output_type": "execute_result"
    }
   ],
   "source": [
    "mean_squared_error(y_val, output_pipe.inverse_transform(model.predict(x_val)))"
   ]
  },
  {
   "cell_type": "markdown",
   "metadata": {},
   "source": [
    "Note that instead of preprocessing the targets, the inverse transform could be incorporated into the forward method of the network:"
   ]
  },
  {
   "cell_type": "code",
   "execution_count": 78,
   "metadata": {},
   "outputs": [],
   "source": [
    "class InverseProcNN(NN):\n",
    "    def __init__(self, n_in:int, depth:int, width:int, n_out:int, out_act:Optional[Callable[[],nn.Module]],\n",
    "                 do:Optional[float]=None, mean:Optional[float]=None, std:Optional[float]=None):\n",
    "        super().__init__(n_in=n_in, depth=depth, width=width, n_out=n_out, out_act=out_act, do=do)\n",
    "        self.mean,self.std = mean,std\n",
    "    \n",
    "    def forward(self, x:Tensor) -> Tensor:\n",
    "        x = super().forward(x)\n",
    "        if self.mean is not None:\n",
    "            x = x*self.std\n",
    "            x = x+self.mean\n",
    "        return x"
   ]
  },
  {
   "cell_type": "code",
   "execution_count": 82,
   "metadata": {
    "scrolled": false
   },
   "outputs": [
    {
     "data": {
      "text/plain": [
       "Model:\n",
       "InverseProcNN(\n",
       "  (layers): Sequential(\n",
       "    (0): Sequential(\n",
       "      (0): Linear(in_features=90, out_features=100, bias=True)\n",
       "      (1): ReLU()\n",
       "      (2): Dropout(p=0.1, inplace=False)\n",
       "    )\n",
       "    (1): Sequential(\n",
       "      (0): Linear(in_features=100, out_features=100, bias=True)\n",
       "      (1): ReLU()\n",
       "      (2): Dropout(p=0.1, inplace=False)\n",
       "    )\n",
       "    (2): Sequential(\n",
       "      (0): Linear(in_features=100, out_features=1, bias=True)\n",
       "    )\n",
       "  )\n",
       ")\n",
       "        \n",
       "\n",
       "Number of trainable parameters: 19301\n",
       "        \n",
       "\n",
       "Optimiser:\n",
       "AdamW (\n",
       "Parameter Group 0\n",
       "    amsgrad: False\n",
       "    betas: (0.9, 0.999)\n",
       "    eps: 1e-08\n",
       "    lr: 0.001\n",
       "    weight_decay: 0.01\n",
       ")\n",
       "        "
      ]
     },
     "execution_count": 82,
     "metadata": {},
     "output_type": "execute_result"
    }
   ],
   "source": [
    "model = Model(InverseProcNN(n_in=len(train_feats), depth=2, width=100, n_out=1, out_act=None, do=0.1,\n",
    "                           mean=y.mean(), std=y.std())); model"
   ]
  },
  {
   "cell_type": "code",
   "execution_count": 83,
   "metadata": {},
   "outputs": [
    {
     "data": {
      "text/html": [
       "\n",
       "    <div>\n",
       "        <style>\n",
       "            /* Turns off some styling */\n",
       "            progress {\n",
       "                /* gets rid of default border in Firefox and Opera. */\n",
       "                border: none;\n",
       "                /* Needs to be in here for Safari polyfill so background images work as expected. */\n",
       "                background-size: auto;\n",
       "            }\n",
       "            .progress-bar-interrupted, .progress-bar-interrupted::-webkit-progress-bar {\n",
       "                background: #F44336;\n",
       "            }\n",
       "        </style>\n",
       "      <progress value='15' class='' max='15', style='width:300px; height:20px; vertical-align: middle;'></progress>\n",
       "      100.00% [15/15 03:30<00:00 Epoch 15, best loss: 7.7584E+01]\n",
       "    </div>\n",
       "    "
      ],
      "text/plain": [
       "<IPython.core.display.HTML object>"
      ]
     },
     "metadata": {},
     "output_type": "display_data"
    },
    {
     "name": "stdout",
     "output_type": "stream",
     "text": [
      "New best loss of 7.903E+01\n",
      "New best loss of 7.768E+01\n",
      "New best loss of 7.758E+01\n",
      "Fit complete loading best model with loss of 7.758E+01\n"
     ]
    },
    {
     "data": {
      "image/png": "[encoded data removed]",
      "text/plain": [
       "<Figure size 1152x648 with 1 Axes>"
      ]
     },
     "metadata": {},
     "output_type": "display_data"
    }
   ],
   "source": [
    "hist = model.fit(x=x, y=y, x_val=x_val, y_val=y_val, batchsize=128, n_epochs=15, lr=2e-3, wd=1e-7, loss_fn=MSELoss())"
   ]
  },
  {
   "cell_type": "markdown",
   "metadata": {},
   "source": [
    "## Sigmoid output\n",
    "Another approach is to use a sigmoid output activation function to constrain the output to be in the range [0,1], and then to rescale this range to match the target. This method prevents large outputs during the initial stages of training from spoiling convergence, and doesn't assume that the targets are Gaussian-distributed."
   ]
  },
  {
   "cell_type": "code",
   "execution_count": 28,
   "metadata": {},
   "outputs": [],
   "source": [
    "class RegressionNN(NN):\n",
    "    def __init__(self, n_in:int, depth:int, width:int, n_out:int, out_act:Optional[Callable[[],nn.Module]],\n",
    "                 do:Optional[float]=None, y_range: Optional[Tuple[float,float]]=None):\n",
    "        super().__init__(n_in=n_in, depth=depth, width=width, n_out=n_out, out_act=out_act, do=do)\n",
    "        self.y_range = y_range\n",
    "        if self.y_range is not None: self.y_diff = self.y_range[1]-self.y_range[0]\n",
    "    \n",
    "    def forward(self, x:Tensor) -> Tensor:\n",
    "        x = super().forward(x)\n",
    "        if self.y_range is not None: x = (self.y_diff*x)+self.y_range[0]\n",
    "        return x"
   ]
  },
  {
   "cell_type": "markdown",
   "metadata": {},
   "source": [
    "We need to know the range of our targets, however, since the validation/test data may contain values outside this range, we want to allow some flexibility, especially since the sigmoid only asymptotically converges to 0 or 1."
   ]
  },
  {
   "cell_type": "code",
   "execution_count": 84,
   "metadata": {},
   "outputs": [
    {
     "data": {
      "text/plain": [
       "(1919, 2014)"
      ]
     },
     "execution_count": 84,
     "metadata": {},
     "output_type": "execute_result"
    }
   ],
   "source": [
    "y_range = (y.min()-3, y.max()+3); y_range"
   ]
  },
  {
   "cell_type": "code",
   "execution_count": 85,
   "metadata": {
    "scrolled": false
   },
   "outputs": [
    {
     "data": {
      "text/plain": [
       "Model:\n",
       "RegressionNN(\n",
       "  (layers): Sequential(\n",
       "    (0): Sequential(\n",
       "      (0): Linear(in_features=90, out_features=100, bias=True)\n",
       "      (1): ReLU()\n",
       "      (2): Dropout(p=0.1, inplace=False)\n",
       "    )\n",
       "    (1): Sequential(\n",
       "      (0): Linear(in_features=100, out_features=100, bias=True)\n",
       "      (1): ReLU()\n",
       "      (2): Dropout(p=0.1, inplace=False)\n",
       "    )\n",
       "    (2): Sequential(\n",
       "      (0): Linear(in_features=100, out_features=1, bias=True)\n",
       "      (1): Sigmoid()\n",
       "    )\n",
       "  )\n",
       ")\n",
       "        \n",
       "\n",
       "Number of trainable parameters: 19301\n",
       "        \n",
       "\n",
       "Optimiser:\n",
       "AdamW (\n",
       "Parameter Group 0\n",
       "    amsgrad: False\n",
       "    betas: (0.9, 0.999)\n",
       "    eps: 1e-08\n",
       "    lr: 0.001\n",
       "    weight_decay: 0.01\n",
       ")\n",
       "        "
      ]
     },
     "execution_count": 85,
     "metadata": {},
     "output_type": "execute_result"
    }
   ],
   "source": [
    "model = Model(RegressionNN(n_in=len(train_feats), depth=2, width=100, n_out=1, out_act=nn.Sigmoid, do=0.1,\n",
    "                           y_range=y_range)); model"
   ]
  },
  {
   "cell_type": "code",
   "execution_count": 86,
   "metadata": {},
   "outputs": [
    {
     "data": {
      "text/html": [
       "\n",
       "    <div>\n",
       "        <style>\n",
       "            /* Turns off some styling */\n",
       "            progress {\n",
       "                /* gets rid of default border in Firefox and Opera. */\n",
       "                border: none;\n",
       "                /* Needs to be in here for Safari polyfill so background images work as expected. */\n",
       "                background-size: auto;\n",
       "            }\n",
       "            .progress-bar-interrupted, .progress-bar-interrupted::-webkit-progress-bar {\n",
       "                background: #F44336;\n",
       "            }\n",
       "        </style>\n",
       "      <progress value='15' class='' max='15', style='width:300px; height:20px; vertical-align: middle;'></progress>\n",
       "      100.00% [15/15 03:34<00:00 Epoch 15, best loss: 7.7775E+01]\n",
       "    </div>\n",
       "    "
      ],
      "text/plain": [
       "<IPython.core.display.HTML object>"
      ]
     },
     "metadata": {},
     "output_type": "display_data"
    },
    {
     "name": "stdout",
     "output_type": "stream",
     "text": [
      "New best loss of 8.008E+01\n",
      "New best loss of 7.919E+01\n",
      "New best loss of 7.778E+01\n",
      "Fit complete loading best model with loss of 7.778E+01\n"
     ]
    },
    {
     "data": {
      "image/png": "[encoded data removed]",
      "text/plain": [
       "<Figure size 1152x648 with 1 Axes>"
      ]
     },
     "metadata": {},
     "output_type": "display_data"
    }
   ],
   "source": [
    "hist = model.fit(x=x, y=y, x_val=x_val, y_val=y_val, batchsize=128, n_epochs=15, lr=2e-3, wd=1e-7, loss_fn=MSELoss())"
   ]
  },
  {
   "cell_type": "markdown",
   "metadata": {},
   "source": [
    "# Baseline\n",
    "With any new dataset, it's always useful to try a simpler method as well (if applicable), to get a baseline score for performance to help check that the more advanced method it working correctly and worth using.\n",
    "Random Forests provide decent performance and are relatively robust to hyper-parameters and data, so can be useful for getting a baseline."
   ]
  },
  {
   "cell_type": "code",
   "execution_count": 35,
   "metadata": {},
   "outputs": [],
   "source": [
    "from sklearn.ensemble import RandomForestRegressor"
   ]
  },
  {
   "cell_type": "code",
   "execution_count": 36,
   "metadata": {},
   "outputs": [],
   "source": [
    "rf = RandomForestRegressor(n_jobs=-1, n_estimators=40, min_samples_leaf=256, max_features='sqrt')"
   ]
  },
  {
   "cell_type": "code",
   "execution_count": 37,
   "metadata": {},
   "outputs": [
    {
     "data": {
      "text/plain": [
       "RandomForestRegressor(bootstrap=True, criterion='mse', max_depth=None,\n",
       "                      max_features='sqrt', max_leaf_nodes=None,\n",
       "                      min_impurity_decrease=0.0, min_impurity_split=None,\n",
       "                      min_samples_leaf=256, min_samples_split=2,\n",
       "                      min_weight_fraction_leaf=0.0, n_estimators=40, n_jobs=-1,\n",
       "                      oob_score=False, random_state=None, verbose=0,\n",
       "                      warm_start=False)"
      ]
     },
     "execution_count": 37,
     "metadata": {},
     "output_type": "execute_result"
    }
   ],
   "source": [
    "rf.fit(x,y)"
   ]
  },
  {
   "cell_type": "code",
   "execution_count": 39,
   "metadata": {},
   "outputs": [
    {
     "data": {
      "text/plain": [
       "92.30682986506342"
      ]
     },
     "execution_count": 39,
     "metadata": {},
     "output_type": "execute_result"
    }
   ],
   "source": [
    "mean_squared_error(y_val, rf.predict(x_val))"
   ]
  },
  {
   "cell_type": "markdown",
   "metadata": {},
   "source": [
    "So, the neural networks are to quite well."
   ]
  }
 ],
 "metadata": {
  "kernelspec": {
   "display_name": "Python 3",
   "language": "python",
   "name": "python3"
  },
  "language_info": {
   "codemirror_mode": {
    "name": "ipython",
    "version": 3
   },
   "file_extension": ".py",
   "mimetype": "text/x-python",
   "name": "python",
   "nbconvert_exporter": "python",
   "pygments_lexer": "ipython3",
   "version": "3.6.5"
  },
  "toc": {
   "base_numbering": 1,
   "nav_menu": {},
   "number_sections": true,
   "sideBar": true,
   "skip_h1_title": false,
   "title_cell": "Table of Contents",
   "title_sidebar": "Contents",
   "toc_cell": false,
   "toc_position": {},
   "toc_section_display": true,
   "toc_window_display": false
  }
 },
 "nbformat": 4,
 "nbformat_minor": 2
}
