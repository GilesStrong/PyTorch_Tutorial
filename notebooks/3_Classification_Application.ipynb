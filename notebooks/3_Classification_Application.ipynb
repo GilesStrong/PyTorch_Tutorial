{
 "cells": [
  {
   "cell_type": "markdown",
   "metadata": {},
   "source": [
    "# Classification of earnings\n",
    "Now we'll look at an actual example of real-world data, where our aim is to use details about a person to predict whether or not they earn more than $50,000 per year.\n",
    "\n",
    "Run the cell below to download the data"
   ]
  },
  {
   "cell_type": "code",
   "execution_count": 1,
   "metadata": {},
   "outputs": [
    {
     "name": "stdout",
     "output_type": "stream",
     "text": [
      "mkdir: ./data: File exists\n",
      "--2020-02-24 16:16:18--  https://archive.ics.uci.edu/ml/machine-learning-databases/adult/adult.data\n",
      "Resolving archive.ics.uci.edu (archive.ics.uci.edu)... 128.195.10.252\n",
      "Connecting to archive.ics.uci.edu (archive.ics.uci.edu)|128.195.10.252|:443... connected.\n",
      "HTTP request sent, awaiting response... 200 OK\n",
      "Length: 3974305 (3.8M) [application/x-httpd-php]\n",
      "Saving to: ‘./data/adult.csv’\n",
      "\n",
      "./data/adult.csv    100%[===================>]   3.79M   725KB/s    in 7.3s    \n",
      "\n",
      "2020-02-24 16:16:28 (535 KB/s) - ‘./data/adult.csv’ saved [3974305/3974305]\n",
      "\n"
     ]
    }
   ],
   "source": [
    "!mkdir ./data\n",
    "!wget https://archive.ics.uci.edu/ml/machine-learning-databases/adult/adult.data -O ./data/adult.csv"
   ]
  },
  {
   "cell_type": "code",
   "execution_count": 1,
   "metadata": {},
   "outputs": [],
   "source": [
    "%matplotlib inline\n",
    "%reload_ext autoreload\n",
    "%autoreload 2\n",
    "import pandas as pd\n",
    "import numpy as np\n",
    "import matplotlib.pyplot as plt\n",
    "import seaborn as sns\n",
    "from typing import List, Union, Optional, Tuple\n",
    "from collections import OrderedDict, defaultdict, deque\n",
    "import os\n",
    "import math\n",
    "from pathlib import Path\n",
    "\n",
    "import sklearn\n",
    "from sklearn.model_selection import train_test_split \n",
    "from sklearn.ensemble import RandomForestClassifier\n",
    "from sklearn.ensemble.forest import ForestRegressor\n",
    "from sklearn.metrics import roc_auc_score, accuracy_score, roc_curve\n",
    "from sklearn.preprocessing import StandardScaler\n",
    "from sklearn.pipeline import Pipeline\n",
    "\n",
    "from typing import *\n",
    "from fastprogress import progress_bar\n",
    "\n",
    "import torch\n",
    "from torch import nn, Tensor, optim\n",
    "from torch.nn.modules.loss import _Loss\n",
    "from torch.utils.data import DataLoader, Dataset\n",
    "from torch.nn import BCELoss"
   ]
  },
  {
   "cell_type": "markdown",
   "metadata": {},
   "source": [
    "# Data Importing\n",
    "The data is in *Comma Separated Value* (CSV) format. To load it up, we'll use Pandas."
   ]
  },
  {
   "cell_type": "code",
   "execution_count": 2,
   "metadata": {},
   "outputs": [
    {
     "name": "stdout",
     "output_type": "stream",
     "text": [
      "32561\n"
     ]
    },
    {
     "data": {
      "text/html": [
       "<div>\n",
       "<style scoped>\n",
       "    .dataframe tbody tr th:only-of-type {\n",
       "        vertical-align: middle;\n",
       "    }\n",
       "\n",
       "    .dataframe tbody tr th {\n",
       "        vertical-align: top;\n",
       "    }\n",
       "\n",
       "    .dataframe thead th {\n",
       "        text-align: right;\n",
       "    }\n",
       "</style>\n",
       "<table border=\"1\" class=\"dataframe\">\n",
       "  <thead>\n",
       "    <tr style=\"text-align: right;\">\n",
       "      <th></th>\n",
       "      <th>0</th>\n",
       "      <th>1</th>\n",
       "      <th>2</th>\n",
       "      <th>3</th>\n",
       "      <th>4</th>\n",
       "      <th>5</th>\n",
       "      <th>6</th>\n",
       "      <th>7</th>\n",
       "      <th>8</th>\n",
       "      <th>9</th>\n",
       "      <th>10</th>\n",
       "      <th>11</th>\n",
       "      <th>12</th>\n",
       "      <th>13</th>\n",
       "      <th>14</th>\n",
       "    </tr>\n",
       "  </thead>\n",
       "  <tbody>\n",
       "    <tr>\n",
       "      <th>0</th>\n",
       "      <td>39</td>\n",
       "      <td>State-gov</td>\n",
       "      <td>77516</td>\n",
       "      <td>Bachelors</td>\n",
       "      <td>13</td>\n",
       "      <td>Never-married</td>\n",
       "      <td>Adm-clerical</td>\n",
       "      <td>Not-in-family</td>\n",
       "      <td>White</td>\n",
       "      <td>Male</td>\n",
       "      <td>2174</td>\n",
       "      <td>0</td>\n",
       "      <td>40</td>\n",
       "      <td>United-States</td>\n",
       "      <td>&lt;=50K</td>\n",
       "    </tr>\n",
       "    <tr>\n",
       "      <th>1</th>\n",
       "      <td>50</td>\n",
       "      <td>Self-emp-not-inc</td>\n",
       "      <td>83311</td>\n",
       "      <td>Bachelors</td>\n",
       "      <td>13</td>\n",
       "      <td>Married-civ-spouse</td>\n",
       "      <td>Exec-managerial</td>\n",
       "      <td>Husband</td>\n",
       "      <td>White</td>\n",
       "      <td>Male</td>\n",
       "      <td>0</td>\n",
       "      <td>0</td>\n",
       "      <td>13</td>\n",
       "      <td>United-States</td>\n",
       "      <td>&lt;=50K</td>\n",
       "    </tr>\n",
       "    <tr>\n",
       "      <th>2</th>\n",
       "      <td>38</td>\n",
       "      <td>Private</td>\n",
       "      <td>215646</td>\n",
       "      <td>HS-grad</td>\n",
       "      <td>9</td>\n",
       "      <td>Divorced</td>\n",
       "      <td>Handlers-cleaners</td>\n",
       "      <td>Not-in-family</td>\n",
       "      <td>White</td>\n",
       "      <td>Male</td>\n",
       "      <td>0</td>\n",
       "      <td>0</td>\n",
       "      <td>40</td>\n",
       "      <td>United-States</td>\n",
       "      <td>&lt;=50K</td>\n",
       "    </tr>\n",
       "    <tr>\n",
       "      <th>3</th>\n",
       "      <td>53</td>\n",
       "      <td>Private</td>\n",
       "      <td>234721</td>\n",
       "      <td>11th</td>\n",
       "      <td>7</td>\n",
       "      <td>Married-civ-spouse</td>\n",
       "      <td>Handlers-cleaners</td>\n",
       "      <td>Husband</td>\n",
       "      <td>Black</td>\n",
       "      <td>Male</td>\n",
       "      <td>0</td>\n",
       "      <td>0</td>\n",
       "      <td>40</td>\n",
       "      <td>United-States</td>\n",
       "      <td>&lt;=50K</td>\n",
       "    </tr>\n",
       "    <tr>\n",
       "      <th>4</th>\n",
       "      <td>28</td>\n",
       "      <td>Private</td>\n",
       "      <td>338409</td>\n",
       "      <td>Bachelors</td>\n",
       "      <td>13</td>\n",
       "      <td>Married-civ-spouse</td>\n",
       "      <td>Prof-specialty</td>\n",
       "      <td>Wife</td>\n",
       "      <td>Black</td>\n",
       "      <td>Female</td>\n",
       "      <td>0</td>\n",
       "      <td>0</td>\n",
       "      <td>40</td>\n",
       "      <td>Cuba</td>\n",
       "      <td>&lt;=50K</td>\n",
       "    </tr>\n",
       "  </tbody>\n",
       "</table>\n",
       "</div>"
      ],
      "text/plain": [
       "   0                  1       2           3   4                    5   \\\n",
       "0  39          State-gov   77516   Bachelors  13        Never-married   \n",
       "1  50   Self-emp-not-inc   83311   Bachelors  13   Married-civ-spouse   \n",
       "2  38            Private  215646     HS-grad   9             Divorced   \n",
       "3  53            Private  234721        11th   7   Married-civ-spouse   \n",
       "4  28            Private  338409   Bachelors  13   Married-civ-spouse   \n",
       "\n",
       "                   6               7       8        9     10  11  12  \\\n",
       "0        Adm-clerical   Not-in-family   White     Male  2174   0  40   \n",
       "1     Exec-managerial         Husband   White     Male     0   0  13   \n",
       "2   Handlers-cleaners   Not-in-family   White     Male     0   0  40   \n",
       "3   Handlers-cleaners         Husband   Black     Male     0   0  40   \n",
       "4      Prof-specialty            Wife   Black   Female     0   0  40   \n",
       "\n",
       "               13      14  \n",
       "0   United-States   <=50K  \n",
       "1   United-States   <=50K  \n",
       "2   United-States   <=50K  \n",
       "3   United-States   <=50K  \n",
       "4            Cuba   <=50K  "
      ]
     },
     "execution_count": 2,
     "metadata": {},
     "output_type": "execute_result"
    }
   ],
   "source": [
    "df = pd.read_csv('data/adult.csv', header=None); print(len(df)); df.head()"
   ]
  },
  {
   "cell_type": "markdown",
   "metadata": {},
   "source": [
    "## Column names\n",
    "In the dataset as is, the features (columns) are just numbers. We can set them to a more human-readable format"
   ]
  },
  {
   "cell_type": "code",
   "execution_count": 3,
   "metadata": {},
   "outputs": [],
   "source": [
    "df.columns = [ \"Age\", \"WorkClass\", \"fnlwgt\", \"Education\", \"EducationNum\", \"MaritalStatus\", \"Occupation\",\n",
    "              \"Relationship\", \"Race\", \"Gender\", \"CapitalGain\", \"CapitalLoss\", \"HoursPerWeek\", \"NativeCountry\", \"Target\"]"
   ]
  },
  {
   "cell_type": "code",
   "execution_count": 4,
   "metadata": {},
   "outputs": [
    {
     "data": {
      "text/html": [
       "<div>\n",
       "<style scoped>\n",
       "    .dataframe tbody tr th:only-of-type {\n",
       "        vertical-align: middle;\n",
       "    }\n",
       "\n",
       "    .dataframe tbody tr th {\n",
       "        vertical-align: top;\n",
       "    }\n",
       "\n",
       "    .dataframe thead th {\n",
       "        text-align: right;\n",
       "    }\n",
       "</style>\n",
       "<table border=\"1\" class=\"dataframe\">\n",
       "  <thead>\n",
       "    <tr style=\"text-align: right;\">\n",
       "      <th></th>\n",
       "      <th>Age</th>\n",
       "      <th>WorkClass</th>\n",
       "      <th>fnlwgt</th>\n",
       "      <th>Education</th>\n",
       "      <th>EducationNum</th>\n",
       "      <th>MaritalStatus</th>\n",
       "      <th>Occupation</th>\n",
       "      <th>Relationship</th>\n",
       "      <th>Race</th>\n",
       "      <th>Gender</th>\n",
       "      <th>CapitalGain</th>\n",
       "      <th>CapitalLoss</th>\n",
       "      <th>HoursPerWeek</th>\n",
       "      <th>NativeCountry</th>\n",
       "      <th>Target</th>\n",
       "    </tr>\n",
       "  </thead>\n",
       "  <tbody>\n",
       "    <tr>\n",
       "      <th>0</th>\n",
       "      <td>39</td>\n",
       "      <td>State-gov</td>\n",
       "      <td>77516</td>\n",
       "      <td>Bachelors</td>\n",
       "      <td>13</td>\n",
       "      <td>Never-married</td>\n",
       "      <td>Adm-clerical</td>\n",
       "      <td>Not-in-family</td>\n",
       "      <td>White</td>\n",
       "      <td>Male</td>\n",
       "      <td>2174</td>\n",
       "      <td>0</td>\n",
       "      <td>40</td>\n",
       "      <td>United-States</td>\n",
       "      <td>&lt;=50K</td>\n",
       "    </tr>\n",
       "    <tr>\n",
       "      <th>1</th>\n",
       "      <td>50</td>\n",
       "      <td>Self-emp-not-inc</td>\n",
       "      <td>83311</td>\n",
       "      <td>Bachelors</td>\n",
       "      <td>13</td>\n",
       "      <td>Married-civ-spouse</td>\n",
       "      <td>Exec-managerial</td>\n",
       "      <td>Husband</td>\n",
       "      <td>White</td>\n",
       "      <td>Male</td>\n",
       "      <td>0</td>\n",
       "      <td>0</td>\n",
       "      <td>13</td>\n",
       "      <td>United-States</td>\n",
       "      <td>&lt;=50K</td>\n",
       "    </tr>\n",
       "    <tr>\n",
       "      <th>2</th>\n",
       "      <td>38</td>\n",
       "      <td>Private</td>\n",
       "      <td>215646</td>\n",
       "      <td>HS-grad</td>\n",
       "      <td>9</td>\n",
       "      <td>Divorced</td>\n",
       "      <td>Handlers-cleaners</td>\n",
       "      <td>Not-in-family</td>\n",
       "      <td>White</td>\n",
       "      <td>Male</td>\n",
       "      <td>0</td>\n",
       "      <td>0</td>\n",
       "      <td>40</td>\n",
       "      <td>United-States</td>\n",
       "      <td>&lt;=50K</td>\n",
       "    </tr>\n",
       "    <tr>\n",
       "      <th>3</th>\n",
       "      <td>53</td>\n",
       "      <td>Private</td>\n",
       "      <td>234721</td>\n",
       "      <td>11th</td>\n",
       "      <td>7</td>\n",
       "      <td>Married-civ-spouse</td>\n",
       "      <td>Handlers-cleaners</td>\n",
       "      <td>Husband</td>\n",
       "      <td>Black</td>\n",
       "      <td>Male</td>\n",
       "      <td>0</td>\n",
       "      <td>0</td>\n",
       "      <td>40</td>\n",
       "      <td>United-States</td>\n",
       "      <td>&lt;=50K</td>\n",
       "    </tr>\n",
       "    <tr>\n",
       "      <th>4</th>\n",
       "      <td>28</td>\n",
       "      <td>Private</td>\n",
       "      <td>338409</td>\n",
       "      <td>Bachelors</td>\n",
       "      <td>13</td>\n",
       "      <td>Married-civ-spouse</td>\n",
       "      <td>Prof-specialty</td>\n",
       "      <td>Wife</td>\n",
       "      <td>Black</td>\n",
       "      <td>Female</td>\n",
       "      <td>0</td>\n",
       "      <td>0</td>\n",
       "      <td>40</td>\n",
       "      <td>Cuba</td>\n",
       "      <td>&lt;=50K</td>\n",
       "    </tr>\n",
       "  </tbody>\n",
       "</table>\n",
       "</div>"
      ],
      "text/plain": [
       "   Age          WorkClass  fnlwgt   Education  EducationNum  \\\n",
       "0   39          State-gov   77516   Bachelors            13   \n",
       "1   50   Self-emp-not-inc   83311   Bachelors            13   \n",
       "2   38            Private  215646     HS-grad             9   \n",
       "3   53            Private  234721        11th             7   \n",
       "4   28            Private  338409   Bachelors            13   \n",
       "\n",
       "         MaritalStatus          Occupation    Relationship    Race   Gender  \\\n",
       "0        Never-married        Adm-clerical   Not-in-family   White     Male   \n",
       "1   Married-civ-spouse     Exec-managerial         Husband   White     Male   \n",
       "2             Divorced   Handlers-cleaners   Not-in-family   White     Male   \n",
       "3   Married-civ-spouse   Handlers-cleaners         Husband   Black     Male   \n",
       "4   Married-civ-spouse      Prof-specialty            Wife   Black   Female   \n",
       "\n",
       "   CapitalGain  CapitalLoss  HoursPerWeek   NativeCountry  Target  \n",
       "0         2174            0            40   United-States   <=50K  \n",
       "1            0            0            13   United-States   <=50K  \n",
       "2            0            0            40   United-States   <=50K  \n",
       "3            0            0            40   United-States   <=50K  \n",
       "4            0            0            40            Cuba   <=50K  "
      ]
     },
     "execution_count": 4,
     "metadata": {},
     "output_type": "execute_result"
    }
   ],
   "source": [
    "df.head()"
   ]
  },
  {
   "cell_type": "markdown",
   "metadata": {},
   "source": [
    "We need a numerical target for our model, so we'll map <=50K to 0, and >50K to 1"
   ]
  },
  {
   "cell_type": "code",
   "execution_count": 5,
   "metadata": {},
   "outputs": [
    {
     "data": {
      "text/plain": [
       "{' <=50K', ' >50K'}"
      ]
     },
     "execution_count": 5,
     "metadata": {},
     "output_type": "execute_result"
    }
   ],
   "source": [
    "set(df.Target)"
   ]
  },
  {
   "cell_type": "code",
   "execution_count": 6,
   "metadata": {},
   "outputs": [],
   "source": [
    "df['Target'] = df.Target.map({' <=50K': 0, ' >50K': 1})"
   ]
  },
  {
   "cell_type": "markdown",
   "metadata": {},
   "source": [
    "There seems to be a class imbalance, but we'll ignore it for now"
   ]
  },
  {
   "cell_type": "code",
   "execution_count": 7,
   "metadata": {},
   "outputs": [
    {
     "data": {
      "text/plain": [
       "<matplotlib.axes._subplots.AxesSubplot at 0x1a2b222400>"
      ]
     },
     "execution_count": 7,
     "metadata": {},
     "output_type": "execute_result"
    },
    {
     "data": {
      "image/png": "[encoded data removed]",
      "text/plain": [
       "<Figure size 432x288 with 1 Axes>"
      ]
     },
     "metadata": {},
     "output_type": "display_data"
    }
   ],
   "source": [
    "df.Target.hist()"
   ]
  },
  {
   "cell_type": "markdown",
   "metadata": {},
   "source": [
    "## Validation set\n",
    "Since we're fitting our model to data, we want to have an unbiased estimate of its performance to help optimise the architecture before we apply the model to the testing data. We can randomly sample a *validation* set from the training data."
   ]
  },
  {
   "cell_type": "code",
   "execution_count": 8,
   "metadata": {},
   "outputs": [],
   "source": [
    "_, val_ids = train_test_split(df.index, stratify=df.Target, test_size=0.2, random_state=0)"
   ]
  },
  {
   "cell_type": "markdown",
   "metadata": {},
   "source": [
    "To help reduce code overhead in the next step, we'll simply set flag in the data for whether or not we want to use each row for training or validation."
   ]
  },
  {
   "cell_type": "code",
   "execution_count": 9,
   "metadata": {},
   "outputs": [],
   "source": [
    "df['val'] = 0\n",
    "df.loc[val_ids, 'val'] = 1"
   ]
  },
  {
   "cell_type": "markdown",
   "metadata": {},
   "source": [
    "# Feature processing\n",
    "The data contains both continuous features (real values with numerical comparison) and categorical features (discreet values or string labels with no numerical comparison). Each need to be treated slightly differently."
   ]
  },
  {
   "cell_type": "code",
   "execution_count": 10,
   "metadata": {},
   "outputs": [],
   "source": [
    "cat_feats = ['WorkClass', 'Education', 'MaritalStatus', 'Occupation',\n",
    "             'Relationship', 'Race', 'Gender', 'NativeCountry']\n",
    "cont_feats = ['Age', 'fnlwgt', 'EducationNum', 'CapitalGain', 'CapitalLoss', 'HoursPerWeek']\n",
    "train_feats = cont_feats+cat_feats"
   ]
  },
  {
   "cell_type": "markdown",
   "metadata": {},
   "source": [
    "## Categorical encoding\n",
    "Our model can only function on numbers, but the categorical features use strings. We can map these string values to integers in order to feed the data into our model. We also want to know whether there are categories which only appear in either training or testing"
   ]
  },
  {
   "cell_type": "markdown",
   "metadata": {},
   "source": [
    "So, the training data contains an extra country which doesn't appear in the testing data, however the model may well be able to learn things from the extra data which are invarient to country, so we'll keep it in.\n",
    "\n",
    "We need to ensure the same string --> integer mapping is applied to both training and testing, in order to make sure the data still has the same meaning when we apply the model to the testing data. We'll also construct dictionaries to keep track of the mapping. **N.B.** Pandas has a dedicated column type `Categorical` for helping with this kind of data, but we'll stick with integer mapping for now."
   ]
  },
  {
   "cell_type": "code",
   "execution_count": 11,
   "metadata": {},
   "outputs": [],
   "source": [
    "cat_maps = defaultdict(dict)\n",
    "for feat in ['WorkClass', 'Education', 'MaritalStatus', 'Occupation',\n",
    "             'Relationship', 'Race', 'Gender', 'NativeCountry']:\n",
    "    for i, val in enumerate(set(df[feat])):\n",
    "        cat_maps[feat][val] = i\n",
    "        df.loc[df[feat] == val, feat] = i"
   ]
  },
  {
   "cell_type": "code",
   "execution_count": 12,
   "metadata": {},
   "outputs": [
    {
     "data": {
      "text/html": [
       "<div>\n",
       "<style scoped>\n",
       "    .dataframe tbody tr th:only-of-type {\n",
       "        vertical-align: middle;\n",
       "    }\n",
       "\n",
       "    .dataframe tbody tr th {\n",
       "        vertical-align: top;\n",
       "    }\n",
       "\n",
       "    .dataframe thead th {\n",
       "        text-align: right;\n",
       "    }\n",
       "</style>\n",
       "<table border=\"1\" class=\"dataframe\">\n",
       "  <thead>\n",
       "    <tr style=\"text-align: right;\">\n",
       "      <th></th>\n",
       "      <th>Age</th>\n",
       "      <th>WorkClass</th>\n",
       "      <th>fnlwgt</th>\n",
       "      <th>Education</th>\n",
       "      <th>EducationNum</th>\n",
       "      <th>MaritalStatus</th>\n",
       "      <th>Occupation</th>\n",
       "      <th>Relationship</th>\n",
       "      <th>Race</th>\n",
       "      <th>Gender</th>\n",
       "      <th>CapitalGain</th>\n",
       "      <th>CapitalLoss</th>\n",
       "      <th>HoursPerWeek</th>\n",
       "      <th>NativeCountry</th>\n",
       "      <th>Target</th>\n",
       "      <th>val</th>\n",
       "    </tr>\n",
       "  </thead>\n",
       "  <tbody>\n",
       "    <tr>\n",
       "      <th>0</th>\n",
       "      <td>39</td>\n",
       "      <td>6</td>\n",
       "      <td>77516</td>\n",
       "      <td>11</td>\n",
       "      <td>13</td>\n",
       "      <td>4</td>\n",
       "      <td>14</td>\n",
       "      <td>0</td>\n",
       "      <td>3</td>\n",
       "      <td>0</td>\n",
       "      <td>2174</td>\n",
       "      <td>0</td>\n",
       "      <td>40</td>\n",
       "      <td>29</td>\n",
       "      <td>0</td>\n",
       "      <td>0</td>\n",
       "    </tr>\n",
       "    <tr>\n",
       "      <th>1</th>\n",
       "      <td>50</td>\n",
       "      <td>2</td>\n",
       "      <td>83311</td>\n",
       "      <td>11</td>\n",
       "      <td>13</td>\n",
       "      <td>3</td>\n",
       "      <td>10</td>\n",
       "      <td>3</td>\n",
       "      <td>3</td>\n",
       "      <td>0</td>\n",
       "      <td>0</td>\n",
       "      <td>0</td>\n",
       "      <td>13</td>\n",
       "      <td>29</td>\n",
       "      <td>0</td>\n",
       "      <td>0</td>\n",
       "    </tr>\n",
       "    <tr>\n",
       "      <th>2</th>\n",
       "      <td>38</td>\n",
       "      <td>3</td>\n",
       "      <td>215646</td>\n",
       "      <td>12</td>\n",
       "      <td>9</td>\n",
       "      <td>1</td>\n",
       "      <td>8</td>\n",
       "      <td>0</td>\n",
       "      <td>3</td>\n",
       "      <td>0</td>\n",
       "      <td>0</td>\n",
       "      <td>0</td>\n",
       "      <td>40</td>\n",
       "      <td>29</td>\n",
       "      <td>0</td>\n",
       "      <td>0</td>\n",
       "    </tr>\n",
       "    <tr>\n",
       "      <th>3</th>\n",
       "      <td>53</td>\n",
       "      <td>3</td>\n",
       "      <td>234721</td>\n",
       "      <td>7</td>\n",
       "      <td>7</td>\n",
       "      <td>3</td>\n",
       "      <td>8</td>\n",
       "      <td>3</td>\n",
       "      <td>0</td>\n",
       "      <td>0</td>\n",
       "      <td>0</td>\n",
       "      <td>0</td>\n",
       "      <td>40</td>\n",
       "      <td>29</td>\n",
       "      <td>0</td>\n",
       "      <td>0</td>\n",
       "    </tr>\n",
       "    <tr>\n",
       "      <th>4</th>\n",
       "      <td>28</td>\n",
       "      <td>3</td>\n",
       "      <td>338409</td>\n",
       "      <td>11</td>\n",
       "      <td>13</td>\n",
       "      <td>3</td>\n",
       "      <td>4</td>\n",
       "      <td>4</td>\n",
       "      <td>0</td>\n",
       "      <td>1</td>\n",
       "      <td>0</td>\n",
       "      <td>0</td>\n",
       "      <td>40</td>\n",
       "      <td>19</td>\n",
       "      <td>0</td>\n",
       "      <td>0</td>\n",
       "    </tr>\n",
       "  </tbody>\n",
       "</table>\n",
       "</div>"
      ],
      "text/plain": [
       "   Age WorkClass  fnlwgt Education  EducationNum MaritalStatus Occupation  \\\n",
       "0   39         6   77516        11            13             4         14   \n",
       "1   50         2   83311        11            13             3         10   \n",
       "2   38         3  215646        12             9             1          8   \n",
       "3   53         3  234721         7             7             3          8   \n",
       "4   28         3  338409        11            13             3          4   \n",
       "\n",
       "  Relationship Race Gender  CapitalGain  CapitalLoss  HoursPerWeek  \\\n",
       "0            0    3      0         2174            0            40   \n",
       "1            3    3      0            0            0            13   \n",
       "2            0    3      0            0            0            40   \n",
       "3            3    0      0            0            0            40   \n",
       "4            4    0      1            0            0            40   \n",
       "\n",
       "  NativeCountry  Target  val  \n",
       "0            29       0    0  \n",
       "1            29       0    0  \n",
       "2            29       0    0  \n",
       "3            29       0    0  \n",
       "4            19       0    0  "
      ]
     },
     "execution_count": 12,
     "metadata": {},
     "output_type": "execute_result"
    }
   ],
   "source": [
    "df.head()"
   ]
  },
  {
   "cell_type": "markdown",
   "metadata": {},
   "source": [
    "Looks good, our data now only contains numerical information"
   ]
  },
  {
   "cell_type": "markdown",
   "metadata": {},
   "source": [
    "## Continuous preprocessing\n",
    "The weight initialisation we use is optimal for inputs which are unit-Gaussian. The closest we can get is to shift and scale each feature to have mean zero and standard deviation one. `SK-Learn` has `Pipeline` classes to handle series of transformations to data, and we'll use the `StandardScaler` to transform the data."
   ]
  },
  {
   "cell_type": "code",
   "execution_count": 13,
   "metadata": {},
   "outputs": [],
   "source": [
    "input_pipe = Pipeline([('norm_in', StandardScaler(with_mean=True, with_std=True))])"
   ]
  },
  {
   "cell_type": "markdown",
   "metadata": {},
   "source": [
    "Next we need to fit the transformation to the data. Note the Boolean indexing of the data."
   ]
  },
  {
   "cell_type": "code",
   "execution_count": 14,
   "metadata": {},
   "outputs": [
    {
     "data": {
      "text/plain": [
       "Pipeline(memory=None,\n",
       "         steps=[('norm_in',\n",
       "                 StandardScaler(copy=True, with_mean=True, with_std=True))],\n",
       "         verbose=False)"
      ]
     },
     "execution_count": 14,
     "metadata": {},
     "output_type": "execute_result"
    }
   ],
   "source": [
    "input_pipe.fit(df[df.val == 0][cont_feats].values.astype('float32'))"
   ]
  },
  {
   "cell_type": "markdown",
   "metadata": {},
   "source": [
    "And finally apply the transformation to the training, validation, and testing data."
   ]
  },
  {
   "cell_type": "code",
   "execution_count": 15,
   "metadata": {},
   "outputs": [
    {
     "data": {
      "text/plain": [
       "<matplotlib.axes._subplots.AxesSubplot at 0x1a2b1abe10>"
      ]
     },
     "execution_count": 15,
     "metadata": {},
     "output_type": "execute_result"
    },
    {
     "data": {
      "image/png": "[encoded data removed]",
      "text/plain": [
       "<Figure size 432x288 with 1 Axes>"
      ]
     },
     "metadata": {},
     "output_type": "display_data"
    }
   ],
   "source": [
    "df.Age.hist()"
   ]
  },
  {
   "cell_type": "code",
   "execution_count": 16,
   "metadata": {},
   "outputs": [],
   "source": [
    "df[cont_feats] = input_pipe.transform(df[cont_feats].values.astype('float32'))"
   ]
  },
  {
   "cell_type": "markdown",
   "metadata": {},
   "source": [
    "We can check the transformation by plotting an example feature"
   ]
  },
  {
   "cell_type": "code",
   "execution_count": 17,
   "metadata": {},
   "outputs": [
    {
     "data": {
      "text/plain": [
       "<matplotlib.axes._subplots.AxesSubplot at 0x1a2b2606a0>"
      ]
     },
     "execution_count": 17,
     "metadata": {},
     "output_type": "execute_result"
    },
    {
     "data": {
      "image/png": "[encoded data removed]",
      "text/plain": [
       "<Figure size 432x288 with 1 Axes>"
      ]
     },
     "metadata": {},
     "output_type": "display_data"
    }
   ],
   "source": [
    "df.Age.hist()"
   ]
  },
  {
   "cell_type": "markdown",
   "metadata": {},
   "source": [
    "# Model \n",
    "Now we need to build a model to fit to the data. Use the previous two example notebooks to help write a function which returns an appropriate model."
   ]
  },
  {
   "cell_type": "code",
   "execution_count": 17,
   "metadata": {},
   "outputs": [],
   "source": [
    "class NPDataset(Dataset):\n",
    "    r'''\n",
    "    Dataset for dealing with Numpy arrays\n",
    "    \n",
    "    Arguments:\n",
    "        x: input data\n",
    "        y: Optional target data\n",
    "        shuffle: whether to shuffle input and target data prior to iteration\n",
    "        bulk_move: whether to move entire dataset to device at start of iteration (quicker) or move batch by batch (memory efficient)\n",
    "        bs: batchsize, number of datapoints per minibatch\n",
    "        device: set to either cuda or cpu, or leave as None for cuda if available else cpu\n",
    "        drop_last: whether to drop last batch if it is smaller than bs\n",
    "    '''\n",
    "    \n",
    "    def __init__(self, x:np.ndarray, y:Optional[np.ndarray]=None, shuffle:bool=True, bulk_move:bool=True, bs:int=64,\n",
    "                 device:Optional[torch.device]=None, drop_last:bool=True):\n",
    "        self.shuffle,self.bulk_move,self.bs,self.drop_last = shuffle,bulk_move,bs,drop_last\n",
    "        if device is None: self.device = torch.device('cuda') if torch.cuda.is_available() else torch.device('cpu')\n",
    "        else:              self.device = device\n",
    "        self.x = x.astype('float32')\n",
    "        if len(self.x.shape) == 1: self.x = self.x[:,None]\n",
    "        if y is None:\n",
    "            self.y = y\n",
    "        else:\n",
    "            self.y = y.astype('float32')\n",
    "            if len(self.y.shape) == 1: self.y = self.y[:,None]\n",
    "\n",
    "    def __len__(self) -> int:\n",
    "        r'''\n",
    "        Returns the number of datapoints in the dataset\n",
    "        '''\n",
    "        \n",
    "        return len(self.x)\n",
    "\n",
    "    def __getitem__(self, idx:int) -> Tuple[Any,Any]:\n",
    "        r'''\n",
    "        Returns a single datapoint at the requested index\n",
    "        '''\n",
    "        \n",
    "        if self.y is None: return self.x[idx]\n",
    "        else:              return self.x[idx], self.y[idx]\n",
    "        \n",
    "    def __iter__(self) -> Tuple[Tensor,Tensor]:\n",
    "        r'''\n",
    "        Iterates through the entire (shuffled) dataset, yielding minibatches of Tensors on device\n",
    "        '''\n",
    "        \n",
    "        if self.shuffle:\n",
    "            data = list(zip(self.x, self.y))\n",
    "            np.random.shuffle(data)\n",
    "            inputs, targets = zip(*data)\n",
    "        else:\n",
    "            inputs, targets = self.x, self.y\n",
    "            \n",
    "        if self.bulk_move:  # Moves entire dataset to device\n",
    "            inputs  = Tensor(inputs).to(self.device)\n",
    "            if targets is not None: targets = Tensor(targets).to(self.device)\n",
    "            if self.drop_last:\n",
    "                for i in range(0, len(inputs)-self.bs+1, self.bs):\n",
    "                    if targets is not None: yield inputs[i:i+self.bs], targets[i:i+self.bs]\n",
    "                    else:                   yield inputs[i:i+self.bs]\n",
    "            else:\n",
    "                for i in range(0, len(inputs)+1, self.bs):\n",
    "                    if targets is not None:\n",
    "                        if i+self.bs < len(inputs): yield inputs[i:i+self.bs], targets[i:i+self.bs]\n",
    "                        else:                       yield inputs[i:],          targets[i:]\n",
    "                    else:\n",
    "                        if i+self.bs < len(inputs): yield inputs[i:i+self.bs]\n",
    "                        else:                       yield inputs[i:]\n",
    "        else:\n",
    "            if self.drop_last:\n",
    "                for i in range(0, len(inputs)-self.bs+1, self.bs):\n",
    "                    if targets is not None:\n",
    "                        yield Tensor(inputs[i:i+self.bs]).to(self.device), Tensor(targets[i:i+self.bs]).to(self.device)\n",
    "                    else:\n",
    "                        yield Tensor(inputs[i:i+self.bs]).to(self.device)\n",
    "            else:\n",
    "                for i in range(0, len(inputs)+1, self.bs):\n",
    "                    if targets is not None:\n",
    "                        if i+self.bs < len(inputs):\n",
    "                            yield Tensor(inputs[i:i+self.bs]).to(self.device), Tensor(targets[i:i+self.bs]).to(self.device)\n",
    "                        else:\n",
    "                            yield Tensor(inputs[i:]).to(self.device),          Tensor(targets[i:]).to(self.device)\n",
    "                    else:\n",
    "                        if i+self.bs < len(inputs): yield Tensor(inputs[i:i+self.bs]).to(self.device)\n",
    "                        else:                       yield Tensor(inputs[i:]).to(self.device)                "
   ]
  },
  {
   "cell_type": "code",
   "execution_count": 18,
   "metadata": {},
   "outputs": [],
   "source": [
    "class NN(nn.Module):\n",
    "    r'''\n",
    "    Full-connected neural network with user-defined depth and width (same width for all dense layers).\n",
    "    User-configurable output activation function (None for regression, nn.Sigmoid for classification).\n",
    "    Internal activations are nn.ReLU\n",
    "    \n",
    "    Arguments:\n",
    "        n_int: number of inputs\n",
    "        depth: number of hidden layers\n",
    "        width: size of hidden layers\n",
    "        n_out: width of output layer\n",
    "        out_act: activation function for output layer (if any)\n",
    "    '''\n",
    "    \n",
    "    def __init__(self, n_in:int, depth:int, width:int, n_out:int, out_act:Optional[Callable[[],nn.Module]]):\n",
    "        super().__init__()  # nn.Module.__init__ must always be called to correctly initialise class\n",
    "        if out_act is None: out_act = lambda: None\n",
    "        self.layers = nn.Sequential(*[self._get_layer(n_in      = n_in      if d   == 0       else width,\n",
    "                                                      n_out     = width     if d <  depth else n_out,\n",
    "                                                      act       = nn.ReLU() if d <  depth else out_act(),\n",
    "                                                      out_layer = d == depth)\n",
    "                                      for d in range(depth+1)])\n",
    "        \n",
    "    @staticmethod\n",
    "    def _get_layer(n_in:int, n_out:int, act:Optional[nn.Module], out_layer:bool) -> nn.Sequential:\n",
    "        r'''\n",
    "        Returns a correctly initialised dense layer and optionally an activation layer, as a Sequential model\n",
    "        '''\n",
    "        \n",
    "        layers = []\n",
    "        \n",
    "        # Create a single layer and initialise weights and biases\n",
    "        layers.append(nn.Linear(n_in, n_out))\n",
    "        if out_layer: nn.init.xavier_normal_(layers[-1].weight)\n",
    "        else:         nn.init.kaiming_normal_(layers[-1].weight, nonlinearity='relu')\n",
    "        nn.init.zeros_(layers[-1].bias)\n",
    "        \n",
    "        # Add activation funtion\n",
    "        if act is not None: layers.append(act)\n",
    "        return nn.Sequential(*layers)\n",
    "    \n",
    "    def forward(self, x:Tensor) -> Tensor:\n",
    "        r'''\n",
    "        Passing input tensor through the neural network and returns the output\n",
    "        '''\n",
    "        \n",
    "        return self.layers(x)"
   ]
  },
  {
   "cell_type": "code",
   "execution_count": 63,
   "metadata": {},
   "outputs": [],
   "source": [
    "class Model():\n",
    "    r'''\n",
    "    Class wrapping a neural network (nn.Module) providing fitting and prediction methods\n",
    "    \n",
    "    Arguments:\n",
    "        model: the network to wrap\n",
    "        device: set to either cuda or cpu, or leave as None for cuda if available else cpu\n",
    "        bulk_move: whether to move entire dataset to device at start of iteration (quicker) or move batch by batch (memory efficient)\n",
    "    '''\n",
    "    \n",
    "    def __init__(self, model:nn.Module, device:Optional[torch.device]=None, bulk_move:bool=True):\n",
    "        if device is None: self.device = torch.device('cuda') if torch.cuda.is_available() else torch.device('cpu')\n",
    "        else:              self.device = device\n",
    "        self.model = self.to_device(model, self.device)\n",
    "        self.opt = optim.Adam(self.model.parameters())\n",
    "        self._n_out = self.get_n_out()\n",
    "        self.bulk_move = bulk_move\n",
    "        \n",
    "    def __repr__(self) -> str:\n",
    "        return f'''Model:\\n{self.model}\n",
    "        \\n\\nNumber of trainable parameters: {sum(p.numel() for p in self.model.parameters() if p.requires_grad)}\n",
    "        \\n\\nOptimiser:\\n{self.opt}\n",
    "        '''\n",
    "    \n",
    "    def get_n_out(self) -> None:\n",
    "        r'''\n",
    "        Gets the number of outputs of the network\n",
    "        '''\n",
    "        \n",
    "        l = deque(self.model.parameters(), maxlen=1).pop()\n",
    "        return len(l.shape)\n",
    "    \n",
    "    @staticmethod\n",
    "    def to_device(x:Union[Tensor,List[Tensor]], device:torch.device) -> Union[Tensor,List[Tensor]]:\n",
    "        r'''\n",
    "        Recursively places Tensor(s) onto device\n",
    "\n",
    "        Arguments:\n",
    "            x: Tensor(s) to place on device\n",
    "\n",
    "        Returns:\n",
    "            Tensor(s) on device\n",
    "        '''\n",
    "\n",
    "        if x is None: return x\n",
    "        if isinstance(x, list): return [Model.to_device(o, device) for o in x]\n",
    "        return x.to(device)\n",
    "    \n",
    "    @staticmethod\n",
    "    def to_np(x:Tensor) -> np.ndarray:\n",
    "        r'''\n",
    "        Converts Tensor x to a Numpy array\n",
    "\n",
    "        Arguments:\n",
    "            x: Tensor to convert\n",
    "\n",
    "        Returns:\n",
    "            x as a Numpy array\n",
    "        '''\n",
    "\n",
    "        return x.cpu().detach().numpy()\n",
    "    \n",
    "    def set_lr(self, lr:float) -> None:\n",
    "        r'''\n",
    "        Sets learning rate of optimiser\n",
    "        '''\n",
    "\n",
    "        self.opt.param_groups[0]['lr'] = lr\n",
    "    \n",
    "    def fit(self, x:np.ndarray, y:np.ndarray,\n",
    "            lr:float, batchsize:int, loss_fn:_Loss, n_epochs:int,\n",
    "            x_val:Optional[np.ndarray]=None, y_val:Optional[np.ndarray]=None) -> Tuple[List[float],List[float]]:\n",
    "        r'''\n",
    "        Fits model to data (optionally using validation data) for a set number of epochs.\n",
    "        \n",
    "        Arguments:\n",
    "            x: training inputs\n",
    "            y: training targets\n",
    "            lr: learning rate\n",
    "            batchsize: size of minibatches\n",
    "            loss_fn: Loss function to use\n",
    "            n_epochs: number of epochs to train\n",
    "            x_val: optional validation inputs\n",
    "            y_val: optional validation targets\n",
    "        \n",
    "        Returns:\n",
    "            Tuple of train and validation losses\n",
    "        '''\n",
    "        \n",
    "        trn_losses,val_losses = [],[]\n",
    "        trn_dl = NPDataset(x,y, bs=batchsize, shuffle=True, bulk_move=self.bulk_move, device=self.device)\n",
    "        self.set_lr(lr)\n",
    "        \n",
    "        epoch_pb = progress_bar(range(n_epochs), display=True, leave=True)\n",
    "        for e in epoch_pb:\n",
    "            losses = []  # Holder for losses during epoch\n",
    "            self.model.train()  # Put model into train mode (local gradients saved during forward pass, dropout active, etc.)\n",
    "            for x, y in trn_dl:  # Loop over batches\n",
    "                x,y = self.to_device(x, self.device),self.to_device(y, self.device)  # Put data on device\n",
    "                y_pred = self.model(x)  # Run forward pass of network and get prediction\n",
    "                loss = loss_fn(y_pred, y)  # Compute loss of prediction\n",
    "                losses.append(loss.data.item())  # Get value of loss\n",
    "                self.opt.zero_grad()  # Reset recorded gradients\n",
    "                loss.backward()  # Propagate loss gradient backwards through network\n",
    "                self.opt.step()  # Perform one update step to network parameters\n",
    "            \n",
    "            trn_losses.append(np.mean(losses))\n",
    "            if x_val is not None:\n",
    "                val_losses.append(self.evaluate(x_val,y_val, batchsize=batchsize, loss_fn=loss_fn))\n",
    "                epoch_pb.comment = f'Epoch {e+1}, best loss: {np.min(val_losses):.4E}'\n",
    "            else:\n",
    "                epoch_pb.comment = f'Epoch {e+1}, best loss: {np.min(trn_losses):.4E}'\n",
    "        self.plot_train_history([trn_losses,val_losses])\n",
    "        return trn_losses,val_losses\n",
    "    \n",
    "    def evaluate(self, x:np.ndarray, y:np.ndarray, batchsize:int, loss_fn:_Loss) -> float:\n",
    "        r'''\n",
    "        Computes mean loss on network predicitons for data\n",
    "        '''\n",
    "        \n",
    "        self.model.eval()  # Put model into eval mode no grads saved, dropout turned off, etc.\n",
    "        loss = []\n",
    "        dl = NPDataset(x,y, bs=batchsize, shuffle=True, bulk_move=self.bulk_move, device=self.device)\n",
    "        for x, y in dl:  # Loop over batches\n",
    "            x,y = self.to_device(x, self.device),self.to_device(y, self.device)  # Put data on device\n",
    "            y_pred = self.model(x)  # Run forward pass of network and get prediction\n",
    "            loss.append(loss_fn(y_pred, y).data.item())  # Get value of loss\n",
    "        return np.mean(loss)\n",
    "    \n",
    "    def predict(self, x:np.ndarray, batchsize:Optional[int]=None) -> np.ndarray:\n",
    "        r'''\n",
    "        Computes preditions for network on data\n",
    "        '''\n",
    "        \n",
    "        self.model.eval()  # Put model into eval mode no grads saved, dropout turned off, etc.\n",
    "        if batchsize is None:  # Compute all predictions at once\n",
    "            x = x.astype('float32')\n",
    "            if len(x.shape) == 1: x = x[:,None]\n",
    "            preds = self.model(self.to_device(Tensor(x), self.device))\n",
    "        else:\n",
    "            dl = NPDataset(x, bs=batchsize, shuffle=False, bulk_move=self.bulk_move, drop_last=False, device=self.device)\n",
    "            preds = torch.zeros((len(x),self._n_out), device=self.device)\n",
    "            for i, x in enumerate(progress_bar(dl, leave=True)):  # Loop over batches\n",
    "                x = self.to_device(x, self.device)  # Put inputs on device\n",
    "                ps = self.model(x)  # Run forward pass of network and get prediction\n",
    "                if len(ps) == batchsize: preds[i*batchsize:(1+i)*batchsize] = ps\n",
    "                else:                    preds[i*batchsize:]                = ps  # Last batch\n",
    "        return self.to_np(preds)\n",
    "    \n",
    "    @staticmethod\n",
    "    def plot_train_history(history:Tuple[List[float],List[float]]) -> None:\n",
    "        r'''\n",
    "        Plots loss evolution as a function of training epoch\n",
    "        '''\n",
    "        plt.figure(figsize=(16,9))\n",
    "        plt.plot(history[0], label='Training')\n",
    "        plt.plot(history[1], label='Validation')\n",
    "        plt.legend(loc='upper right', fontsize=16)\n",
    "        if history[0][0]/np.min(history[0]) > 50: plt.yscale('log', nonposy='clip')\n",
    "        plt.grid(True, which=\"both\")\n",
    "        plt.xticks(fontsize=16)\n",
    "        plt.yticks(fontsize=16)\n",
    "        plt.xlabel(\"Epoch\", fontsize=24)\n",
    "        plt.ylabel(\"Loss\", fontsize=24)\n",
    "        plt.show()"
   ]
  },
  {
   "cell_type": "code",
   "execution_count": 64,
   "metadata": {},
   "outputs": [
    {
     "data": {
      "text/plain": [
       "Model:\n",
       "NN(\n",
       "  (layers): Sequential(\n",
       "    (0): Sequential(\n",
       "      (0): Linear(in_features=108, out_features=100, bias=True)\n",
       "      (1): ReLU()\n",
       "    )\n",
       "    (1): Sequential(\n",
       "      (0): Linear(in_features=100, out_features=100, bias=True)\n",
       "      (1): ReLU()\n",
       "    )\n",
       "    (2): Sequential(\n",
       "      (0): Linear(in_features=100, out_features=1, bias=True)\n",
       "      (1): Sigmoid()\n",
       "    )\n",
       "  )\n",
       ")\n",
       "        \n",
       "\n",
       "Number of trainable parameters: 21101\n",
       "        \n",
       "\n",
       "Optimiser:\n",
       "Adam (\n",
       "Parameter Group 0\n",
       "    amsgrad: False\n",
       "    betas: (0.9, 0.999)\n",
       "    eps: 1e-08\n",
       "    lr: 0.001\n",
       "    weight_decay: 0\n",
       ")\n",
       "        "
      ]
     },
     "execution_count": 64,
     "metadata": {},
     "output_type": "execute_result"
    }
   ],
   "source": [
    "model = Model(NN(n_in=len(train_feats), depth=2, width=100, n_out=1, out_act=nn.Sigmoid)); model"
   ]
  },
  {
   "cell_type": "markdown",
   "metadata": {},
   "source": [
    "Now we need to extract out our inputs and targets"
   ]
  },
  {
   "cell_type": "code",
   "execution_count": 29,
   "metadata": {},
   "outputs": [
    {
     "data": {
      "text/plain": [
       "26048"
      ]
     },
     "execution_count": 29,
     "metadata": {},
     "output_type": "execute_result"
    }
   ],
   "source": [
    "x, y = df[df.val == 0][train_feats].values, df[df.val == 0]['Target'].values\n",
    "x_val, y_val = df[df.val == 1][train_feats].values, df[df.val == 1]['Target'].values\n",
    "len(x)"
   ]
  },
  {
   "cell_type": "code",
   "execution_count": 30,
   "metadata": {},
   "outputs": [
    {
     "data": {
      "text/html": [
       "\n",
       "    <div>\n",
       "        <style>\n",
       "            /* Turns off some styling */\n",
       "            progress {\n",
       "                /* gets rid of default border in Firefox and Opera. */\n",
       "                border: none;\n",
       "                /* Needs to be in here for Safari polyfill so background images work as expected. */\n",
       "                background-size: auto;\n",
       "            }\n",
       "            .progress-bar-interrupted, .progress-bar-interrupted::-webkit-progress-bar {\n",
       "                background: #F44336;\n",
       "            }\n",
       "        </style>\n",
       "      <progress value='15' class='' max='15', style='width:300px; height:20px; vertical-align: middle;'></progress>\n",
       "      100.00% [15/15 00:05<00:00 Epoch 15, best loss: 3.4559E-01]\n",
       "    </div>\n",
       "    "
      ],
      "text/plain": [
       "<IPython.core.display.HTML object>"
      ]
     },
     "metadata": {},
     "output_type": "display_data"
    },
    {
     "data": {
      "image/png": "[encoded data removed]",
      "text/plain": [
       "<Figure size 1152x648 with 1 Axes>"
      ]
     },
     "metadata": {},
     "output_type": "display_data"
    }
   ],
   "source": [
    "hist = model.fit(x=x, y=y, x_val=x_val, y_val=y_val, batchsize=128, n_epochs=15, lr=1e-4, loss_fn=BCELoss())"
   ]
  },
  {
   "cell_type": "code",
   "execution_count": 31,
   "metadata": {},
   "outputs": [],
   "source": [
    "def score_model(model:nn.Module, x_val:np.ndarray, y_val:np.ndarray) -> Tuple[float,float]:\n",
    "    preds = model.predict(x_val)\n",
    "    acc = accuracy_score(y_val, preds.round())\n",
    "    roc_auc = roc_auc_score(y_val, preds)\n",
    "    plt.figure(figsize=(5,5))\n",
    "    plt.plot(*roc_curve(y_val, preds)[:2], label=f'ROC AUC={roc_auc:.3f}, ACC={acc:.3f}')\n",
    "    plt.legend()\n",
    "    plt.show()\n",
    "    return (acc, roc_auc)"
   ]
  },
  {
   "cell_type": "code",
   "execution_count": 32,
   "metadata": {},
   "outputs": [
    {
     "data": {
      "image/png": "[encoded data removed]",
      "text/plain": [
       "<Figure size 360x360 with 1 Axes>"
      ]
     },
     "metadata": {},
     "output_type": "display_data"
    }
   ],
   "source": [
    "_ = score_model(model, x_val, y_val)"
   ]
  },
  {
   "cell_type": "markdown",
   "metadata": {},
   "source": [
    "# 1-hot encoding\n",
    "Are treatment of categorical features so far has simply allowed use to feed the inputs into the model, however NNs have a continuous response to inputs and by encoding as integers we have implied a numerical comparison between categories.\n",
    "An encoding which removes this implication and allows the network to construct separate responses to each category is to expand each feature in to a series of features, one for each category, and mark the correct column with a 1, and the rest as zeros, e.g Monday --> (1,0,0,0,0,0,0)\n",
    "\n",
    "Pandas has a function to do this."
   ]
  },
  {
   "cell_type": "code",
   "execution_count": 33,
   "metadata": {},
   "outputs": [],
   "source": [
    "df = pd.get_dummies(df, columns=cat_feats)"
   ]
  },
  {
   "cell_type": "code",
   "execution_count": 34,
   "metadata": {},
   "outputs": [
    {
     "data": {
      "text/html": [
       "<div>\n",
       "<style scoped>\n",
       "    .dataframe tbody tr th:only-of-type {\n",
       "        vertical-align: middle;\n",
       "    }\n",
       "\n",
       "    .dataframe tbody tr th {\n",
       "        vertical-align: top;\n",
       "    }\n",
       "\n",
       "    .dataframe thead th {\n",
       "        text-align: right;\n",
       "    }\n",
       "</style>\n",
       "<table border=\"1\" class=\"dataframe\">\n",
       "  <thead>\n",
       "    <tr style=\"text-align: right;\">\n",
       "      <th></th>\n",
       "      <th>Age</th>\n",
       "      <th>fnlwgt</th>\n",
       "      <th>EducationNum</th>\n",
       "      <th>CapitalGain</th>\n",
       "      <th>CapitalLoss</th>\n",
       "      <th>HoursPerWeek</th>\n",
       "      <th>Target</th>\n",
       "      <th>val</th>\n",
       "      <th>WorkClass_0</th>\n",
       "      <th>WorkClass_1</th>\n",
       "      <th>...</th>\n",
       "      <th>NativeCountry_32</th>\n",
       "      <th>NativeCountry_33</th>\n",
       "      <th>NativeCountry_34</th>\n",
       "      <th>NativeCountry_35</th>\n",
       "      <th>NativeCountry_36</th>\n",
       "      <th>NativeCountry_37</th>\n",
       "      <th>NativeCountry_38</th>\n",
       "      <th>NativeCountry_39</th>\n",
       "      <th>NativeCountry_40</th>\n",
       "      <th>NativeCountry_41</th>\n",
       "    </tr>\n",
       "  </thead>\n",
       "  <tbody>\n",
       "    <tr>\n",
       "      <th>0</th>\n",
       "      <td>0.030732</td>\n",
       "      <td>-1.062885</td>\n",
       "      <td>1.130588</td>\n",
       "      <td>0.143026</td>\n",
       "      <td>-0.212386</td>\n",
       "      <td>-0.032432</td>\n",
       "      <td>0</td>\n",
       "      <td>0</td>\n",
       "      <td>0</td>\n",
       "      <td>0</td>\n",
       "      <td>...</td>\n",
       "      <td>0</td>\n",
       "      <td>0</td>\n",
       "      <td>1</td>\n",
       "      <td>0</td>\n",
       "      <td>0</td>\n",
       "      <td>0</td>\n",
       "      <td>0</td>\n",
       "      <td>0</td>\n",
       "      <td>0</td>\n",
       "      <td>0</td>\n",
       "    </tr>\n",
       "    <tr>\n",
       "      <th>1</th>\n",
       "      <td>0.837016</td>\n",
       "      <td>-1.007998</td>\n",
       "      <td>1.130588</td>\n",
       "      <td>-0.146647</td>\n",
       "      <td>-0.212386</td>\n",
       "      <td>-2.222496</td>\n",
       "      <td>0</td>\n",
       "      <td>0</td>\n",
       "      <td>0</td>\n",
       "      <td>0</td>\n",
       "      <td>...</td>\n",
       "      <td>0</td>\n",
       "      <td>0</td>\n",
       "      <td>1</td>\n",
       "      <td>0</td>\n",
       "      <td>0</td>\n",
       "      <td>0</td>\n",
       "      <td>0</td>\n",
       "      <td>0</td>\n",
       "      <td>0</td>\n",
       "      <td>0</td>\n",
       "    </tr>\n",
       "    <tr>\n",
       "      <th>2</th>\n",
       "      <td>-0.042567</td>\n",
       "      <td>0.245392</td>\n",
       "      <td>-0.414712</td>\n",
       "      <td>-0.146647</td>\n",
       "      <td>-0.212386</td>\n",
       "      <td>-0.032432</td>\n",
       "      <td>0</td>\n",
       "      <td>0</td>\n",
       "      <td>0</td>\n",
       "      <td>0</td>\n",
       "      <td>...</td>\n",
       "      <td>0</td>\n",
       "      <td>0</td>\n",
       "      <td>1</td>\n",
       "      <td>0</td>\n",
       "      <td>0</td>\n",
       "      <td>0</td>\n",
       "      <td>0</td>\n",
       "      <td>0</td>\n",
       "      <td>0</td>\n",
       "      <td>0</td>\n",
       "    </tr>\n",
       "    <tr>\n",
       "      <th>3</th>\n",
       "      <td>1.056912</td>\n",
       "      <td>0.426057</td>\n",
       "      <td>-1.187362</td>\n",
       "      <td>-0.146647</td>\n",
       "      <td>-0.212386</td>\n",
       "      <td>-0.032432</td>\n",
       "      <td>0</td>\n",
       "      <td>0</td>\n",
       "      <td>0</td>\n",
       "      <td>0</td>\n",
       "      <td>...</td>\n",
       "      <td>0</td>\n",
       "      <td>0</td>\n",
       "      <td>1</td>\n",
       "      <td>0</td>\n",
       "      <td>0</td>\n",
       "      <td>0</td>\n",
       "      <td>0</td>\n",
       "      <td>0</td>\n",
       "      <td>0</td>\n",
       "      <td>0</td>\n",
       "    </tr>\n",
       "    <tr>\n",
       "      <th>4</th>\n",
       "      <td>-0.775553</td>\n",
       "      <td>1.408122</td>\n",
       "      <td>1.130588</td>\n",
       "      <td>-0.146647</td>\n",
       "      <td>-0.212386</td>\n",
       "      <td>-0.032432</td>\n",
       "      <td>0</td>\n",
       "      <td>0</td>\n",
       "      <td>0</td>\n",
       "      <td>0</td>\n",
       "      <td>...</td>\n",
       "      <td>0</td>\n",
       "      <td>0</td>\n",
       "      <td>0</td>\n",
       "      <td>0</td>\n",
       "      <td>0</td>\n",
       "      <td>0</td>\n",
       "      <td>0</td>\n",
       "      <td>0</td>\n",
       "      <td>0</td>\n",
       "      <td>0</td>\n",
       "    </tr>\n",
       "  </tbody>\n",
       "</table>\n",
       "<p>5 rows × 110 columns</p>\n",
       "</div>"
      ],
      "text/plain": [
       "        Age    fnlwgt  EducationNum  CapitalGain  CapitalLoss  HoursPerWeek  \\\n",
       "0  0.030732 -1.062885      1.130588     0.143026    -0.212386     -0.032432   \n",
       "1  0.837016 -1.007998      1.130588    -0.146647    -0.212386     -2.222496   \n",
       "2 -0.042567  0.245392     -0.414712    -0.146647    -0.212386     -0.032432   \n",
       "3  1.056912  0.426057     -1.187362    -0.146647    -0.212386     -0.032432   \n",
       "4 -0.775553  1.408122      1.130588    -0.146647    -0.212386     -0.032432   \n",
       "\n",
       "   Target  val  WorkClass_0  WorkClass_1  ...  NativeCountry_32  \\\n",
       "0       0    0            0            0  ...                 0   \n",
       "1       0    0            0            0  ...                 0   \n",
       "2       0    0            0            0  ...                 0   \n",
       "3       0    0            0            0  ...                 0   \n",
       "4       0    0            0            0  ...                 0   \n",
       "\n",
       "   NativeCountry_33  NativeCountry_34  NativeCountry_35  NativeCountry_36  \\\n",
       "0                 0                 1                 0                 0   \n",
       "1                 0                 1                 0                 0   \n",
       "2                 0                 1                 0                 0   \n",
       "3                 0                 1                 0                 0   \n",
       "4                 0                 0                 0                 0   \n",
       "\n",
       "   NativeCountry_37  NativeCountry_38  NativeCountry_39  NativeCountry_40  \\\n",
       "0                 0                 0                 0                 0   \n",
       "1                 0                 0                 0                 0   \n",
       "2                 0                 0                 0                 0   \n",
       "3                 0                 0                 0                 0   \n",
       "4                 0                 0                 0                 0   \n",
       "\n",
       "   NativeCountry_41  \n",
       "0                 0  \n",
       "1                 0  \n",
       "2                 0  \n",
       "3                 0  \n",
       "4                 0  \n",
       "\n",
       "[5 rows x 110 columns]"
      ]
     },
     "execution_count": 34,
     "metadata": {},
     "output_type": "execute_result"
    }
   ],
   "source": [
    "df.head()"
   ]
  },
  {
   "cell_type": "markdown",
   "metadata": {},
   "source": [
    "As we can see, the original categorical columns have been removed and replaced by dedicated columns for each feature category."
   ]
  },
  {
   "cell_type": "markdown",
   "metadata": {},
   "source": [
    "Note that the number of input features has now shot up from 13 to 108: 1-hot encoding is not an efficient method, but should help our model to better access the information in the data."
   ]
  },
  {
   "cell_type": "code",
   "execution_count": 35,
   "metadata": {},
   "outputs": [
    {
     "data": {
      "text/plain": [
       "108"
      ]
     },
     "execution_count": 35,
     "metadata": {},
     "output_type": "execute_result"
    }
   ],
   "source": [
    "cat_feats = [f for f in df.columns if f not in cont_feats+['Target', 'val']]\n",
    "train_feats = cont_feats+cat_feats\n",
    "len(train_feats)"
   ]
  },
  {
   "cell_type": "code",
   "execution_count": 36,
   "metadata": {
    "scrolled": false
   },
   "outputs": [
    {
     "data": {
      "text/plain": [
       "Model:\n",
       "NN(\n",
       "  (layers): Sequential(\n",
       "    (0): Sequential(\n",
       "      (0): Linear(in_features=108, out_features=100, bias=True)\n",
       "      (1): ReLU()\n",
       "    )\n",
       "    (1): Sequential(\n",
       "      (0): Linear(in_features=100, out_features=100, bias=True)\n",
       "      (1): ReLU()\n",
       "    )\n",
       "    (2): Sequential(\n",
       "      (0): Linear(in_features=100, out_features=1, bias=True)\n",
       "      (1): Sigmoid()\n",
       "    )\n",
       "  )\n",
       ")\n",
       "        \n",
       "\n",
       "Number of trainable parameters: 21101\n",
       "        "
      ]
     },
     "execution_count": 36,
     "metadata": {},
     "output_type": "execute_result"
    }
   ],
   "source": [
    "model = Model(NN(n_in=len(train_feats), depth=2, width=100, n_out=1, out_act=nn.Sigmoid)); model"
   ]
  },
  {
   "cell_type": "code",
   "execution_count": 37,
   "metadata": {},
   "outputs": [
    {
     "data": {
      "text/plain": [
       "26048"
      ]
     },
     "execution_count": 37,
     "metadata": {},
     "output_type": "execute_result"
    }
   ],
   "source": [
    "x, y = df[df.val == 0][train_feats].values, df[df.val == 0]['Target'].values\n",
    "x_val, y_val = df[df.val == 1][train_feats].values, df[df.val == 1]['Target'].values\n",
    "len(x)"
   ]
  },
  {
   "cell_type": "code",
   "execution_count": 38,
   "metadata": {},
   "outputs": [
    {
     "data": {
      "text/html": [
       "\n",
       "    <div>\n",
       "        <style>\n",
       "            /* Turns off some styling */\n",
       "            progress {\n",
       "                /* gets rid of default border in Firefox and Opera. */\n",
       "                border: none;\n",
       "                /* Needs to be in here for Safari polyfill so background images work as expected. */\n",
       "                background-size: auto;\n",
       "            }\n",
       "            .progress-bar-interrupted, .progress-bar-interrupted::-webkit-progress-bar {\n",
       "                background: #F44336;\n",
       "            }\n",
       "        </style>\n",
       "      <progress value='15' class='' max='15', style='width:300px; height:20px; vertical-align: middle;'></progress>\n",
       "      100.00% [15/15 00:09<00:00 Epoch 15, best loss: 3.1646E-01]\n",
       "    </div>\n",
       "    "
      ],
      "text/plain": [
       "<IPython.core.display.HTML object>"
      ]
     },
     "metadata": {},
     "output_type": "display_data"
    },
    {
     "data": {
      "image/png": "[encoded data removed]",
      "text/plain": [
       "<Figure size 1152x648 with 1 Axes>"
      ]
     },
     "metadata": {},
     "output_type": "display_data"
    }
   ],
   "source": [
    "hist = model.fit(x=x, y=y, x_val=x_val, y_val=y_val, batchsize=128, n_epochs=15, lr=1e-4, loss_fn=BCELoss())"
   ]
  },
  {
   "cell_type": "code",
   "execution_count": 39,
   "metadata": {},
   "outputs": [
    {
     "data": {
      "image/png": "[encoded data removed]",
      "text/plain": [
       "<Figure size 360x360 with 1 Axes>"
      ]
     },
     "metadata": {},
     "output_type": "display_data"
    }
   ],
   "source": [
    "_ = score_model(model, x_val, y_val)"
   ]
  },
  {
   "cell_type": "markdown",
   "metadata": {},
   "source": [
    "Slight improvements to our metrics"
   ]
  },
  {
   "cell_type": "markdown",
   "metadata": {},
   "source": [
    "# Regularisation\n",
    "Occasionally, we can have a situation in which the validation performance begins to decrease, where as the training performance continues to improve:"
   ]
  },
  {
   "cell_type": "code",
   "execution_count": 40,
   "metadata": {
    "scrolled": false
   },
   "outputs": [
    {
     "data": {
      "text/plain": [
       "Model:\n",
       "NN(\n",
       "  (layers): Sequential(\n",
       "    (0): Sequential(\n",
       "      (0): Linear(in_features=108, out_features=100, bias=True)\n",
       "      (1): ReLU()\n",
       "    )\n",
       "    (1): Sequential(\n",
       "      (0): Linear(in_features=100, out_features=100, bias=True)\n",
       "      (1): ReLU()\n",
       "    )\n",
       "    (2): Sequential(\n",
       "      (0): Linear(in_features=100, out_features=100, bias=True)\n",
       "      (1): ReLU()\n",
       "    )\n",
       "    (3): Sequential(\n",
       "      (0): Linear(in_features=100, out_features=100, bias=True)\n",
       "      (1): ReLU()\n",
       "    )\n",
       "    (4): Sequential(\n",
       "      (0): Linear(in_features=100, out_features=100, bias=True)\n",
       "      (1): ReLU()\n",
       "    )\n",
       "    (5): Sequential(\n",
       "      (0): Linear(in_features=100, out_features=100, bias=True)\n",
       "      (1): ReLU()\n",
       "    )\n",
       "    (6): Sequential(\n",
       "      (0): Linear(in_features=100, out_features=100, bias=True)\n",
       "      (1): ReLU()\n",
       "    )\n",
       "    (7): Sequential(\n",
       "      (0): Linear(in_features=100, out_features=100, bias=True)\n",
       "      (1): ReLU()\n",
       "    )\n",
       "    (8): Sequential(\n",
       "      (0): Linear(in_features=100, out_features=100, bias=True)\n",
       "      (1): ReLU()\n",
       "    )\n",
       "    (9): Sequential(\n",
       "      (0): Linear(in_features=100, out_features=100, bias=True)\n",
       "      (1): ReLU()\n",
       "    )\n",
       "    (10): Sequential(\n",
       "      (0): Linear(in_features=100, out_features=100, bias=True)\n",
       "      (1): ReLU()\n",
       "    )\n",
       "    (11): Sequential(\n",
       "      (0): Linear(in_features=100, out_features=100, bias=True)\n",
       "      (1): ReLU()\n",
       "    )\n",
       "    (12): Sequential(\n",
       "      (0): Linear(in_features=100, out_features=1, bias=True)\n",
       "      (1): Sigmoid()\n",
       "    )\n",
       "  )\n",
       ")\n",
       "        \n",
       "\n",
       "Number of trainable parameters: 122101\n",
       "        "
      ]
     },
     "execution_count": 40,
     "metadata": {},
     "output_type": "execute_result"
    }
   ],
   "source": [
    "model = Model(NN(n_in=len(train_feats), depth=12, width=100, n_out=1, out_act=nn.Sigmoid)); model"
   ]
  },
  {
   "cell_type": "code",
   "execution_count": 41,
   "metadata": {},
   "outputs": [
    {
     "data": {
      "text/html": [
       "\n",
       "    <div>\n",
       "        <style>\n",
       "            /* Turns off some styling */\n",
       "            progress {\n",
       "                /* gets rid of default border in Firefox and Opera. */\n",
       "                border: none;\n",
       "                /* Needs to be in here for Safari polyfill so background images work as expected. */\n",
       "                background-size: auto;\n",
       "            }\n",
       "            .progress-bar-interrupted, .progress-bar-interrupted::-webkit-progress-bar {\n",
       "                background: #F44336;\n",
       "            }\n",
       "        </style>\n",
       "      <progress value='15' class='' max='15', style='width:300px; height:20px; vertical-align: middle;'></progress>\n",
       "      100.00% [15/15 00:20<00:00 Epoch 15, best loss: 3.2429E-01]\n",
       "    </div>\n",
       "    "
      ],
      "text/plain": [
       "<IPython.core.display.HTML object>"
      ]
     },
     "metadata": {},
     "output_type": "display_data"
    },
    {
     "data": {
      "image/png": "[encoded data removed]",
      "text/plain": [
       "<Figure size 1152x648 with 1 Axes>"
      ]
     },
     "metadata": {},
     "output_type": "display_data"
    }
   ],
   "source": [
    "hist = model.fit(x=x, y=y, x_val=x_val, y_val=y_val, batchsize=128, n_epochs=15, lr=1e-4, loss_fn=BCELoss())"
   ]
  },
  {
   "cell_type": "markdown",
   "metadata": {},
   "source": [
    "Here we can see that the validation loss minimises very quickly, and then begins to increase, spoiling performance. This is an example of *over-training*. There are many causes of over training, and here we made a very large network which begins to memorise the training data instead of learning general patters which extrapolate well to the validation data.\n",
    "\n",
    "Ideally, we want to stop the training when the performance on validation is best. One way to effectively do this is to save copies of the network whenever the validation loss reaches a new lowest value. After training is finished we can then load the model to get back to the point of best validation performance."
   ]
  },
  {
   "cell_type": "code",
   "execution_count": 42,
   "metadata": {},
   "outputs": [
    {
     "data": {
      "image/png": "[encoded data removed]",
      "text/plain": [
       "<Figure size 360x360 with 1 Axes>"
      ]
     },
     "metadata": {},
     "output_type": "display_data"
    },
    {
     "data": {
      "text/plain": [
       "(0.8347919545524336, 0.8994922463424198)"
      ]
     },
     "execution_count": 42,
     "metadata": {},
     "output_type": "execute_result"
    }
   ],
   "source": [
    "score_model(model, x_val, y_val)"
   ]
  },
  {
   "cell_type": "code",
   "execution_count": 51,
   "metadata": {},
   "outputs": [],
   "source": [
    "class SaveBestModel(Model):\n",
    "    r'''\n",
    "    Class wrapping a neural network (nn.Module) providing fitting and prediction methods\n",
    "    Automatically saves the best model during training.\n",
    "    '''\n",
    "\n",
    "    def fit(self, x:np.ndarray, y:np.ndarray,\n",
    "            lr:float, batchsize:int, loss_fn:_Loss, n_epochs:int,\n",
    "            x_val:Optional[np.ndarray]=None, y_val:Optional[np.ndarray]=None) -> Tuple[List[float],List[float]]:\n",
    "        r'''\n",
    "        Fits model to data (optionally using validation data) for a set number of epochs.\n",
    "        Automatically tracks best performance and loads best model at end of training\n",
    "        \n",
    "        Arguments:\n",
    "            x: training inputs\n",
    "            y: training targets\n",
    "            lr: learning rate\n",
    "            batchsize: size of minibatches\n",
    "            loss_fn: Loss function to use\n",
    "            n_epochs: number of epochs to train\n",
    "            x_val: optional validation inputs\n",
    "            y_val: optional validation targets\n",
    "        \n",
    "        Returns:\n",
    "            Tuple of train and validation losses\n",
    "        '''\n",
    "        \n",
    "        def save_best(loss:float, best_loss:float) -> float:\n",
    "            if loss < best_loss:\n",
    "                best_loss = loss\n",
    "                print(f'New best loss of {best_loss:.3E}')\n",
    "                self.save(\"best.h5\")\n",
    "            return best_loss\n",
    "        \n",
    "        self.model.train()  # Put model into train mode (local gradients saved during forward pass, dropout active, etc.)\n",
    "        trn_losses,val_losses = [],[]\n",
    "        trn_dl = NPDataset(x,y, bs=batchsize, shuffle=True, bulk_move=self.bulk_move)\n",
    "        self.opt.param_groups[0]['lr'] = lr  # Set learning rate of optimiser\n",
    "        best_loss = math.inf\n",
    "        \n",
    "        epoch_pb = progress_bar(range(n_epochs), display=True, leave=True)\n",
    "        for e in epoch_pb:\n",
    "            losses = []  # Holder for losses during epoch\n",
    "            for x, y in trn_dl:  # Loop over batches\n",
    "                x,y = self.to_device(x, self.device),self.to_device(y, self.device)  # Put data on device\n",
    "                y_pred = self.model(x)  # Run forward pass of network and get prediction\n",
    "                loss = loss_fn(y_pred, y)  # Compute loss of prediction\n",
    "                losses.append(loss.data.item())  # Get value of loss\n",
    "                self.opt.zero_grad()  # Reset recorded gradients\n",
    "                loss.backward()  # Propagate loss gradient backwards through network\n",
    "                self.opt.step()  # Perform one update step to network parameters\n",
    "            \n",
    "            trn_losses.append(np.mean(losses))\n",
    "            if x_val is not None:\n",
    "                val_losses.append(self.evaluate(x_val,y_val, batchsize=batchsize, loss_fn=loss_fn))\n",
    "                epoch_pb.comment = f'Epoch {e+1}, best loss: {np.min(val_losses):.4E}'\n",
    "                best_loss = save_best(val_losses[-1], best_loss)\n",
    "            else:\n",
    "                epoch_pb.comment = f'Epoch {e+1}, best loss: {np.min(trn_losses):.4E}'\n",
    "                best_loss = save_best(trn_losses[-1], best_loss)\n",
    "        \n",
    "        print(f'Fit complete loading best model with loss of {best_loss:.3E}')\n",
    "        self.load(\"best.h5\")\n",
    "        self.plot_train_history([trn_losses,val_losses])\n",
    "        return trn_losses,val_losses\n",
    "    \n",
    "    def save(self, filename:Union[Path,str]) -> None:\n",
    "        torch.save({'model':self.model.state_dict(), 'opt':self.opt.state_dict()}, str(filename))\n",
    "        \n",
    "    def load(self, filename:Union[Path,str]) -> None:\n",
    "        state = torch.load(str(filename), map_location=self.device.type)\n",
    "        self.model.load_state_dict(state['model'])\n",
    "        self.opt.load_state_dict(state['opt'])\n",
    "    \n",
    "    @staticmethod\n",
    "    def plot_train_history(history:Tuple[List[float],List[float]]) -> None:\n",
    "        r'''\n",
    "        Plots loss evolution as a function of training epoch\n",
    "        '''\n",
    "        plt.figure(figsize=(16,9))\n",
    "        plt.plot(history[0], label='Training')\n",
    "        if len(history[1]) > 0:\n",
    "            plt.plot(history[1], label='Validation')\n",
    "            plt.vlines(np.argmin(history[1]), ymin=np.min(history[0]), ymax=np.max(history[0]), linestyles='--')\n",
    "        else:\n",
    "            plt.vlines(np.argmin(history[0]), ymin=np.min(history[0]), ymax=np.max(history[0]), linestyles='--')\n",
    "        plt.legend(loc='upper right', fontsize=16)\n",
    "        if history[0][0]/np.min(history[0]) > 50: plt.yscale('log', nonposy='clip')\n",
    "        plt.grid(True, which=\"both\")\n",
    "        plt.xticks(fontsize=16)\n",
    "        plt.yticks(fontsize=16)\n",
    "        plt.xlabel(\"Epoch\", fontsize=24)\n",
    "        plt.ylabel(\"Loss\", fontsize=24)\n",
    "        plt.show()"
   ]
  },
  {
   "cell_type": "code",
   "execution_count": 52,
   "metadata": {
    "scrolled": false
   },
   "outputs": [
    {
     "data": {
      "text/plain": [
       "Model:\n",
       "NN(\n",
       "  (layers): Sequential(\n",
       "    (0): Sequential(\n",
       "      (0): Linear(in_features=108, out_features=100, bias=True)\n",
       "      (1): ReLU()\n",
       "    )\n",
       "    (1): Sequential(\n",
       "      (0): Linear(in_features=100, out_features=100, bias=True)\n",
       "      (1): ReLU()\n",
       "    )\n",
       "    (2): Sequential(\n",
       "      (0): Linear(in_features=100, out_features=100, bias=True)\n",
       "      (1): ReLU()\n",
       "    )\n",
       "    (3): Sequential(\n",
       "      (0): Linear(in_features=100, out_features=100, bias=True)\n",
       "      (1): ReLU()\n",
       "    )\n",
       "    (4): Sequential(\n",
       "      (0): Linear(in_features=100, out_features=100, bias=True)\n",
       "      (1): ReLU()\n",
       "    )\n",
       "    (5): Sequential(\n",
       "      (0): Linear(in_features=100, out_features=100, bias=True)\n",
       "      (1): ReLU()\n",
       "    )\n",
       "    (6): Sequential(\n",
       "      (0): Linear(in_features=100, out_features=100, bias=True)\n",
       "      (1): ReLU()\n",
       "    )\n",
       "    (7): Sequential(\n",
       "      (0): Linear(in_features=100, out_features=100, bias=True)\n",
       "      (1): ReLU()\n",
       "    )\n",
       "    (8): Sequential(\n",
       "      (0): Linear(in_features=100, out_features=100, bias=True)\n",
       "      (1): ReLU()\n",
       "    )\n",
       "    (9): Sequential(\n",
       "      (0): Linear(in_features=100, out_features=100, bias=True)\n",
       "      (1): ReLU()\n",
       "    )\n",
       "    (10): Sequential(\n",
       "      (0): Linear(in_features=100, out_features=100, bias=True)\n",
       "      (1): ReLU()\n",
       "    )\n",
       "    (11): Sequential(\n",
       "      (0): Linear(in_features=100, out_features=100, bias=True)\n",
       "      (1): ReLU()\n",
       "    )\n",
       "    (12): Sequential(\n",
       "      (0): Linear(in_features=100, out_features=1, bias=True)\n",
       "      (1): Sigmoid()\n",
       "    )\n",
       "  )\n",
       ")\n",
       "        \n",
       "\n",
       "Number of trainable parameters: 122101\n",
       "        "
      ]
     },
     "execution_count": 52,
     "metadata": {},
     "output_type": "execute_result"
    }
   ],
   "source": [
    "model = SaveBestModel(NN(n_in=len(train_feats), depth=12, width=100, n_out=1, out_act=nn.Sigmoid)); model"
   ]
  },
  {
   "cell_type": "code",
   "execution_count": 53,
   "metadata": {},
   "outputs": [
    {
     "data": {
      "text/html": [
       "\n",
       "    <div>\n",
       "        <style>\n",
       "            /* Turns off some styling */\n",
       "            progress {\n",
       "                /* gets rid of default border in Firefox and Opera. */\n",
       "                border: none;\n",
       "                /* Needs to be in here for Safari polyfill so background images work as expected. */\n",
       "                background-size: auto;\n",
       "            }\n",
       "            .progress-bar-interrupted, .progress-bar-interrupted::-webkit-progress-bar {\n",
       "                background: #F44336;\n",
       "            }\n",
       "        </style>\n",
       "      <progress value='15' class='' max='15', style='width:300px; height:20px; vertical-align: middle;'></progress>\n",
       "      100.00% [15/15 00:22<00:00 Epoch 15, best loss: 3.2675E-01]\n",
       "    </div>\n",
       "    "
      ],
      "text/plain": [
       "<IPython.core.display.HTML object>"
      ]
     },
     "metadata": {},
     "output_type": "display_data"
    },
    {
     "name": "stdout",
     "output_type": "stream",
     "text": [
      "New best loss of 3.556E-01\n",
      "New best loss of 3.372E-01\n",
      "New best loss of 3.328E-01\n",
      "New best loss of 3.296E-01\n",
      "New best loss of 3.267E-01\n",
      "Fit complete loading best model with loss of 3.267E-01\n"
     ]
    },
    {
     "data": {
      "image/png": "[encoded data removed]",
      "text/plain": [
       "<Figure size 1152x648 with 1 Axes>"
      ]
     },
     "metadata": {},
     "output_type": "display_data"
    }
   ],
   "source": [
    "hist = model.fit(x=x, y=y, x_val=x_val, y_val=y_val, batchsize=128, n_epochs=15, lr=1e-4, loss_fn=BCELoss())"
   ]
  },
  {
   "cell_type": "code",
   "execution_count": 54,
   "metadata": {},
   "outputs": [
    {
     "data": {
      "image/png": "[encoded data removed]",
      "text/plain": [
       "<Figure size 360x360 with 1 Axes>"
      ]
     },
     "metadata": {},
     "output_type": "display_data"
    }
   ],
   "source": [
    "_ = score_model(model, x_val, y_val)"
   ]
  },
  {
   "cell_type": "markdown",
   "metadata": {},
   "source": [
    "So we removed the over-training by *early-stopping*. Ideally, this implementation would track the number of epochs passed since the last improvement in validation loss and actually stop training early, to save time (you can add this in if you want).\n",
    "\n",
    "Whilst it removed the over-training, the score is still not as good as the previous model. Note however that the training loss does reach lower values than before. This is *over-fitting*  and is a bit of a more difficult problem to solve, since there are many causes and many potential solutions. Note that over-fitting does **not** refer directly to the difference between training and validation performance, but rather to the fact that the model fits to *noise* in the training data.\n",
    "\n",
    "At the point of the black dotted line, the network is fitted as best as possible given the hyper-parameter settings, however since the network then goes on to reach better performance on the training set than it previously could with the smaller models, we know that the model has the potential to perform better, but is not encouraged to do so and it is this which indicates over-fitting. Are aim is to train a model such that we get the best possible score on the validation data. We know, that reducing the size of the model helps improve the score, but what if some other solution could be used to full utilise the larger model to reach an even better score?\n",
    "\n",
    "Techniques and factors which combat over-fitting are called *regularisation*, and there are many different forms; e.g. some explicitly controlled (e.g. dropout and weight decay), whilst others occur implicitly due to decisions (such as choosing not to simplify data formats). See https://arxiv.org/abs/1710.10686 for a good discussion on regularisation.\n",
    "\n",
    "https://arxiv.org/abs/1803.09820 argues that explicit regularisation techniques should be tuned towards the end of architecture optimisation, since the can easily be adjusted to the given architecture, dataset, and other forms of regularisation already present in the system. Two common forms are: $L_2$ regularisation (e.g. [Ng, 04](https://icml.cc/Conferences/2004/proceedings/papers/354.pdf); which penalises the loss based on the sum of magnitures of network parameters - parameters only diverge from zero if they bring loss improvements greater than the penalty term; and dropout ([Srivastava et al, 14](http://jmlr.org/papers/v15/srivastava14a.html), which randomly removes neurons during training - the network is forced to learn redundant paths and so generalise to training data.\n",
    "\n",
    "Let's write new networks and models that allow us to include dropout rates and $L_2$. Beware: $L_2$ is sometimes called *weight decay* (penalisation of the weight updates). These are actually two different penalties that just happen to be equivalent of vanilla stochastic-gradient-descent. Because of this the two terms are often used interchangeable but most libraries only implement $L_2$ regularisation. For the Adam optimiser, however, $L_2$ and weight decay are not equivalent, and experimentally it has been shown experimentally (e.g. https://arxiv.org/abs/1711.05101) that Adam works best with weight decay (see https://www.fast.ai/2018/07/02/adam-weight-decay/ for more). We'll therefore switch to using the [`AdamW`](https://pytorch.org/docs/stable/optim.html#torch.optim.AdamW) which correctly implements weight decay."
   ]
  },
  {
   "cell_type": "code",
   "execution_count": 55,
   "metadata": {},
   "outputs": [],
   "source": [
    "class DropoutNN(NN):\n",
    "    r'''\n",
    "    Full-connected neural network with user-defined depth and width (same width for all dense layers) and dropout.\n",
    "    User-configurable output activation function (None for regression, nn.Sigmoid for classification).\n",
    "    Internal activations are nn.ReLU\n",
    "    \n",
    "    Arguments:\n",
    "        n_int: number of inputs\n",
    "        depth: number of hidden layers\n",
    "        width: size of hidden layers\n",
    "        n_out: width of output layer\n",
    "        out_act: activation function for output layer (if any)\n",
    "        do: dropout rate\n",
    "    '''\n",
    "    \n",
    "    def __init__(self, n_in:int, depth:int, width:int, n_out:int, out_act:Optional[Callable[[],nn.Module]],\n",
    "                 do:Optional[float]=None):\n",
    "        self.do = do\n",
    "        super().__init__(n_in=n_in, depth=depth, width=width, n_out=n_out, out_act=out_act)\n",
    "        \n",
    "    def _get_layer(self, n_in:int, n_out:int, act:Optional[nn.Module], out_layer:bool) -> nn.Sequential:\n",
    "        r'''\n",
    "        Returns a correctly initialised dense layer and optionally an activation layer, as a Sequential model\n",
    "        '''\n",
    "        layers = super()._get_layer(n_in, n_out, act, out_layer)\n",
    "        if not out_layer and self.do > 0: layers.add_module(\"DO\", nn.Dropout(self.do))\n",
    "        return layers"
   ]
  },
  {
   "cell_type": "code",
   "execution_count": 59,
   "metadata": {},
   "outputs": [],
   "source": [
    "class RegularisationModel(SaveBestModel):\n",
    "    r'''\n",
    "    Model wrapper which uses AdamW and has configurable weight decay during training\n",
    "    \n",
    "    Arguments:\n",
    "        model: the network to wrap\n",
    "        device: set to either cuda or cpu, or leave as None for cuda if available else cpu\n",
    "        bulk_move: whether to move entire dataset to device at start of iteration (quicker) or move batch by batch (memory efficient)\n",
    "    '''\n",
    "    \n",
    "    def __init__(self, model:nn.Module, device:Optional[torch.device]=None, bulk_move:bool=True):\n",
    "        super().__init__(model=model, device=device, bulk_move=bulk_move)\n",
    "        self.opt = optim.AdamW(self.model.parameters())\n",
    "        \n",
    "    def set_wd(self, wd:float) -> None:\n",
    "        r'''\n",
    "        Sets weight decay parameter for optimiser\n",
    "        '''\n",
    "\n",
    "        self.opt.param_groups[0]['weight_decay'] = wd\n",
    "    \n",
    "    def fit(self, x:np.ndarray, y:np.ndarray,\n",
    "            lr:float, batchsize:int, loss_fn:_Loss, n_epochs:int, wd:Optional[float]=None,\n",
    "            x_val:Optional[np.ndarray]=None, y_val:Optional[np.ndarray]=None) -> Tuple[List[float],List[float]]:\n",
    "        r'''\n",
    "        Fits model to data (optionally using validation data) for a set number of epochs.\n",
    "        Automatically tracks best performance and loads best model at end of training\n",
    "        \n",
    "        Arguments:\n",
    "            x: training inputs\n",
    "            y: training targets\n",
    "            lr: learning rate\n",
    "            batchsize: size of minibatches\n",
    "            loss_fn: Loss function to use\n",
    "            n_epochs: number of epochs to train\n",
    "            wd: amount of weight decay penalisation\n",
    "            x_val: optional validation inputs\n",
    "            y_val: optional validation targets\n",
    "        \n",
    "        Returns:\n",
    "            Tuple of train and validation losses\n",
    "        '''\n",
    "        \n",
    "        if wd is None: wd = 0\n",
    "        self.set_wd(wd)\n",
    "        return super().fit(x=x, y=y, lr=lr, batchsize=batchsize, loss_fn=loss_fn, n_epochs=n_epochs,\n",
    "                           x_val=x_val, y_val=y_val)"
   ]
  },
  {
   "cell_type": "code",
   "execution_count": 60,
   "metadata": {
    "scrolled": false
   },
   "outputs": [
    {
     "data": {
      "text/plain": [
       "Model:\n",
       "DropoutNN(\n",
       "  (layers): Sequential(\n",
       "    (0): Sequential(\n",
       "      (0): Linear(in_features=108, out_features=100, bias=True)\n",
       "      (1): ReLU()\n",
       "      (DO): Dropout(p=0.3, inplace=False)\n",
       "    )\n",
       "    (1): Sequential(\n",
       "      (0): Linear(in_features=100, out_features=100, bias=True)\n",
       "      (1): ReLU()\n",
       "      (DO): Dropout(p=0.3, inplace=False)\n",
       "    )\n",
       "    (2): Sequential(\n",
       "      (0): Linear(in_features=100, out_features=100, bias=True)\n",
       "      (1): ReLU()\n",
       "      (DO): Dropout(p=0.3, inplace=False)\n",
       "    )\n",
       "    (3): Sequential(\n",
       "      (0): Linear(in_features=100, out_features=100, bias=True)\n",
       "      (1): ReLU()\n",
       "      (DO): Dropout(p=0.3, inplace=False)\n",
       "    )\n",
       "    (4): Sequential(\n",
       "      (0): Linear(in_features=100, out_features=100, bias=True)\n",
       "      (1): ReLU()\n",
       "      (DO): Dropout(p=0.3, inplace=False)\n",
       "    )\n",
       "    (5): Sequential(\n",
       "      (0): Linear(in_features=100, out_features=100, bias=True)\n",
       "      (1): ReLU()\n",
       "      (DO): Dropout(p=0.3, inplace=False)\n",
       "    )\n",
       "    (6): Sequential(\n",
       "      (0): Linear(in_features=100, out_features=100, bias=True)\n",
       "      (1): ReLU()\n",
       "      (DO): Dropout(p=0.3, inplace=False)\n",
       "    )\n",
       "    (7): Sequential(\n",
       "      (0): Linear(in_features=100, out_features=100, bias=True)\n",
       "      (1): ReLU()\n",
       "      (DO): Dropout(p=0.3, inplace=False)\n",
       "    )\n",
       "    (8): Sequential(\n",
       "      (0): Linear(in_features=100, out_features=100, bias=True)\n",
       "      (1): ReLU()\n",
       "      (DO): Dropout(p=0.3, inplace=False)\n",
       "    )\n",
       "    (9): Sequential(\n",
       "      (0): Linear(in_features=100, out_features=100, bias=True)\n",
       "      (1): ReLU()\n",
       "      (DO): Dropout(p=0.3, inplace=False)\n",
       "    )\n",
       "    (10): Sequential(\n",
       "      (0): Linear(in_features=100, out_features=100, bias=True)\n",
       "      (1): ReLU()\n",
       "      (DO): Dropout(p=0.3, inplace=False)\n",
       "    )\n",
       "    (11): Sequential(\n",
       "      (0): Linear(in_features=100, out_features=100, bias=True)\n",
       "      (1): ReLU()\n",
       "      (DO): Dropout(p=0.3, inplace=False)\n",
       "    )\n",
       "    (12): Sequential(\n",
       "      (0): Linear(in_features=100, out_features=1, bias=True)\n",
       "      (1): Sigmoid()\n",
       "    )\n",
       "  )\n",
       ")\n",
       "        \n",
       "\n",
       "Number of trainable parameters: 122101\n",
       "        "
      ]
     },
     "execution_count": 60,
     "metadata": {},
     "output_type": "execute_result"
    }
   ],
   "source": [
    "model = RegularisationModel(DropoutNN(n_in=len(train_feats), depth=12, width=100, n_out=1, out_act=nn.Sigmoid, do=0.3)); model"
   ]
  },
  {
   "cell_type": "code",
   "execution_count": 61,
   "metadata": {},
   "outputs": [
    {
     "data": {
      "text/html": [
       "\n",
       "    <div>\n",
       "        <style>\n",
       "            /* Turns off some styling */\n",
       "            progress {\n",
       "                /* gets rid of default border in Firefox and Opera. */\n",
       "                border: none;\n",
       "                /* Needs to be in here for Safari polyfill so background images work as expected. */\n",
       "                background-size: auto;\n",
       "            }\n",
       "            .progress-bar-interrupted, .progress-bar-interrupted::-webkit-progress-bar {\n",
       "                background: #F44336;\n",
       "            }\n",
       "        </style>\n",
       "      <progress value='15' class='' max='15', style='width:300px; height:20px; vertical-align: middle;'></progress>\n",
       "      100.00% [15/15 00:22<00:00 Epoch 15, best loss: 3.1991E-01]\n",
       "    </div>\n",
       "    "
      ],
      "text/plain": [
       "<IPython.core.display.HTML object>"
      ]
     },
     "metadata": {},
     "output_type": "display_data"
    },
    {
     "name": "stdout",
     "output_type": "stream",
     "text": [
      "New best loss of 4.444E-01\n",
      "New best loss of 3.287E-01\n",
      "New best loss of 3.254E-01\n",
      "New best loss of 3.253E-01\n",
      "New best loss of 3.199E-01\n",
      "Fit complete loading best model with loss of 3.199E-01\n"
     ]
    },
    {
     "data": {
      "image/png": "[encoded data removed]",
      "text/plain": [
       "<Figure size 1152x648 with 1 Axes>"
      ]
     },
     "metadata": {},
     "output_type": "display_data"
    }
   ],
   "source": [
    "hist = model.fit(x=x, y=y, x_val=x_val, y_val=y_val, batchsize=128, n_epochs=15, lr=2e-3, loss_fn=BCELoss(), wd=1e-5)"
   ]
  },
  {
   "cell_type": "code",
   "execution_count": 62,
   "metadata": {},
   "outputs": [
    {
     "data": {
      "image/png": "[encoded data removed]",
      "text/plain": [
       "<Figure size 360x360 with 1 Axes>"
      ]
     },
     "metadata": {},
     "output_type": "display_data"
    }
   ],
   "source": [
    "_ = score_model(model, x_val, y_val)"
   ]
  },
  {
   "cell_type": "markdown",
   "metadata": {},
   "source": [
    "So, by tuning the amount of regularaisation we reached even better performance using the larger model. Of course the smaller model might still be over-fitting and could also benefit from regularisation..."
   ]
  },
  {
   "cell_type": "code",
   "execution_count": null,
   "metadata": {},
   "outputs": [],
   "source": []
  }
 ],
 "metadata": {
  "kernelspec": {
   "display_name": "Python 3",
   "language": "python",
   "name": "python3"
  },
  "language_info": {
   "codemirror_mode": {
    "name": "ipython",
    "version": 3
   },
   "file_extension": ".py",
   "mimetype": "text/x-python",
   "name": "python",
   "nbconvert_exporter": "python",
   "pygments_lexer": "ipython3",
   "version": "3.6.5"
  },
  "toc": {
   "base_numbering": 1,
   "nav_menu": {},
   "number_sections": true,
   "sideBar": true,
   "skip_h1_title": false,
   "title_cell": "Table of Contents",
   "title_sidebar": "Contents",
   "toc_cell": false,
   "toc_position": {},
   "toc_section_display": true,
   "toc_window_display": false
  }
 },
 "nbformat": 4,
 "nbformat_minor": 2
}
