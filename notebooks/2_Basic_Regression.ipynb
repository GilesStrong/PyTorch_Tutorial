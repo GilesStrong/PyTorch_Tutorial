{
 "cells": [
  {
   "cell_type": "markdown",
   "metadata": {},
   "source": [
    "# PyTorch for basic regression\n",
    "Revisiting the task of regression, let's look at trying to model a more complicated function; a sine wave with some Gaussian noise."
   ]
  },
  {
   "cell_type": "code",
   "execution_count": 1,
   "metadata": {},
   "outputs": [],
   "source": [
    "%matplotlib inline\n",
    "import numpy as np\n",
    "import matplotlib.pyplot as plt\n",
    "\n",
    "from typing import *\n",
    "from fastprogress import progress_bar\n",
    "from collections import deque\n",
    "\n",
    "import torch\n",
    "from torch import nn, Tensor, optim\n",
    "from torch.nn.modules.loss import _Loss\n",
    "from torch.utils.data import DataLoader, Dataset\n",
    "from torch.nn import MSELoss"
   ]
  },
  {
   "cell_type": "code",
   "execution_count": 2,
   "metadata": {},
   "outputs": [],
   "source": [
    "n = 200\n",
    "x = 2*np.pi*np.random.random(n)\n",
    "y = np.sin(x)+np.random.normal(scale=0.2, size=n)\n",
    "d = np.array(list(zip(x,y)))\n",
    "np.random.shuffle(d)\n",
    "x,y = d[:,0],d[:,1]"
   ]
  },
  {
   "cell_type": "code",
   "execution_count": 3,
   "metadata": {},
   "outputs": [
    {
     "data": {
      "text/plain": [
       "<matplotlib.collections.PathCollection at 0x12c8f2748>"
      ]
     },
     "execution_count": 3,
     "metadata": {},
     "output_type": "execute_result"
    },
    {
     "data": {
      "image/png": "[encoded data removed]",
      "text/plain": [
       "<Figure size 432x288 with 1 Axes>"
      ]
     },
     "metadata": {},
     "output_type": "display_data"
    }
   ],
   "source": [
    "plt.scatter(x, y)"
   ]
  },
  {
   "cell_type": "markdown",
   "metadata": {},
   "source": [
    "Again, we need our code to define the dataset, network, and wrapper."
   ]
  },
  {
   "cell_type": "code",
   "execution_count": 4,
   "metadata": {},
   "outputs": [],
   "source": [
    "class NPDataset(Dataset):\n",
    "    r'''\n",
    "    Dataset for dealing with Numpy arrays\n",
    "    \n",
    "    Arguments:\n",
    "        x: input data\n",
    "        y: Optional target data\n",
    "        shuffle: whether to shuffle input and target data prior to iteration\n",
    "        bulk_move: whether to move entire dataset to device at start of iteration (quicker) or move batch by batch (memory efficient)\n",
    "        bs: batchsize, number of datapoints per minibatch\n",
    "        device: set to either cuda or cpu, or leave as None for cuda if available else cpu\n",
    "        drop_last: whether to drop last batch if it is smaller than bs\n",
    "    '''\n",
    "    \n",
    "    def __init__(self, x:np.ndarray, y:Optional[np.ndarray]=None, shuffle:bool=True, bulk_move:bool=True, bs:int=64,\n",
    "                 device:Optional[torch.device]=None, drop_last:bool=True):\n",
    "        self.shuffle,self.bulk_move,self.bs,self.drop_last = shuffle,bulk_move,bs,drop_last\n",
    "        if device is None: self.device = torch.device('cuda') if torch.cuda.is_available() else torch.device('cpu')\n",
    "        else:              self.device = device\n",
    "        self.x = x.astype('float32')\n",
    "        if len(self.x.shape) == 1: self.x = self.x[:,None]\n",
    "        if y is None:\n",
    "            self.y = y\n",
    "        else:\n",
    "            self.y = y.astype('float32')\n",
    "            if len(self.y.shape) == 1: self.y = self.y[:,None]\n",
    "\n",
    "    def __len__(self) -> int:\n",
    "        r'''\n",
    "        Returns the number of datapoints in the dataset\n",
    "        '''\n",
    "        \n",
    "        return len(self.x)\n",
    "\n",
    "    def __getitem__(self, idx:int) -> Tuple[Any,Any]:\n",
    "        r'''\n",
    "        Returns a single datapoint at the requested index\n",
    "        '''\n",
    "        \n",
    "        if self.y is None: return self.x[idx]\n",
    "        else:              return self.x[idx], self.y[idx]\n",
    "        \n",
    "    def __iter__(self) -> Tuple[Tensor,Tensor]:\n",
    "        r'''\n",
    "        Iterates through the entire (shuffled) dataset, yielding minibatches of Tensors on device\n",
    "        '''\n",
    "        \n",
    "        if self.shuffle:\n",
    "            data = list(zip(self.x, self.y))\n",
    "            np.random.shuffle(data)\n",
    "            inputs, targets = zip(*data)\n",
    "        else:\n",
    "            inputs, targets = self.x, self.y\n",
    "            \n",
    "        if self.bulk_move:  # Moves entire dataset to device\n",
    "            inputs  = Tensor(inputs).to(self.device)\n",
    "            if targets is not None: targets = Tensor(targets).to(self.device)\n",
    "            if self.drop_last:\n",
    "                for i in range(0, len(inputs)-self.bs+1, self.bs):\n",
    "                    if targets is not None: yield inputs[i:i+self.bs], targets[i:i+self.bs]\n",
    "                    else:                   yield inputs[i:i+self.bs]\n",
    "            else:\n",
    "                for i in range(0, len(inputs)+1, self.bs):\n",
    "                    if targets is not None:\n",
    "                        if i+self.bs < len(inputs): yield inputs[i:i+self.bs], targets[i:i+self.bs]\n",
    "                        else:                       yield inputs[i:],          targets[i:]\n",
    "                    else:\n",
    "                        if i+self.bs < len(inputs): yield inputs[i:i+self.bs]\n",
    "                        else:                       yield inputs[i:]\n",
    "        else:\n",
    "            if self.drop_last:\n",
    "                for i in range(0, len(inputs)-self.bs+1, self.bs):\n",
    "                    if targets is not None:\n",
    "                        yield Tensor(inputs[i:i+self.bs]).to(self.device), Tensor(targets[i:i+self.bs]).to(self.device)\n",
    "                    else:\n",
    "                        yield Tensor(inputs[i:i+self.bs]).to(self.device)\n",
    "            else:\n",
    "                for i in range(0, len(inputs)+1, self.bs):\n",
    "                    if targets is not None:\n",
    "                        if i+self.bs < len(inputs):\n",
    "                            yield Tensor(inputs[i:i+self.bs]).to(self.device), Tensor(targets[i:i+self.bs]).to(self.device)\n",
    "                        else:\n",
    "                            yield Tensor(inputs[i:]).to(self.device),          Tensor(targets[i:]).to(self.device)\n",
    "                    else:\n",
    "                        if i+self.bs < len(inputs): yield Tensor(inputs[i:i+self.bs]).to(self.device)\n",
    "                        else:                       yield Tensor(inputs[i:]).to(self.device)                "
   ]
  },
  {
   "cell_type": "code",
   "execution_count": 5,
   "metadata": {},
   "outputs": [],
   "source": [
    "class NN(nn.Module):\n",
    "    r'''\n",
    "    Full-connected neural network with user-defined depth and width (same width for all dense layers).\n",
    "    User-configurable output activation function (None for regression, nn.Sigmoid for classification).\n",
    "    Internal activations are nn.ReLU\n",
    "    \n",
    "    Arguments:\n",
    "        n_int: number of inputs\n",
    "        depth: number of hidden layers\n",
    "        width: size of hidden layers\n",
    "        n_out: width of output layer\n",
    "        out_act: activation function for output layer (if any)\n",
    "    '''\n",
    "    \n",
    "    def __init__(self, n_in:int, depth:int, width:int, n_out:int, out_act:Optional[Callable[[],nn.Module]]):\n",
    "        super().__init__()  # nn.Module.__init__ must always be called to correctly initialise class\n",
    "        if out_act is None: out_act = lambda: None\n",
    "        self.layers = nn.Sequential(*[self._get_layer(n_in      = n_in      if d   == 0       else width,\n",
    "                                                      n_out     = width     if d <  depth else n_out,\n",
    "                                                      act       = nn.ReLU() if d <  depth else out_act(),\n",
    "                                                      out_layer = d == depth)\n",
    "                                      for d in range(depth+1)])\n",
    "        \n",
    "    @staticmethod\n",
    "    def _get_layer(n_in:int, n_out:int, act:Optional[nn.Module], out_layer:bool) -> nn.Sequential:\n",
    "        r'''\n",
    "        Returns a correctly initialised dense layer and optionally an activation layer, as a Sequential model\n",
    "        '''\n",
    "        \n",
    "        layers = []\n",
    "        \n",
    "        # Create a single layer and initialise weights and biases\n",
    "        layers.append(nn.Linear(n_in, n_out))\n",
    "        if out_layer: nn.init.xavier_normal_(layers[-1].weight)\n",
    "        else:         nn.init.kaiming_normal_(layers[-1].weight, nonlinearity='relu')\n",
    "        nn.init.zeros_(layers[-1].bias)\n",
    "        \n",
    "        # Add activation funtion\n",
    "        if act is not None: layers.append(act)\n",
    "        return nn.Sequential(*layers)\n",
    "    \n",
    "    def forward(self, x:Tensor) -> Tensor:\n",
    "        r'''\n",
    "        Passing input tensor through the neural network and returns the output\n",
    "        '''\n",
    "        \n",
    "        return self.layers(x)"
   ]
  },
  {
   "cell_type": "code",
   "execution_count": 6,
   "metadata": {},
   "outputs": [],
   "source": [
    "class Model():\n",
    "    r'''\n",
    "    Class wrapping a neural network (nn.Module) providing fitting and prediction methods\n",
    "    \n",
    "    Arguments:\n",
    "        model: the network to wrap\n",
    "        device: set to either cuda or cpu, or leave as None for cuda if available else cpu\n",
    "        bulk_move: whether to move entire dataset to device at start of iteration (quicker) or move batch by batch (memory efficient)\n",
    "    '''\n",
    "    \n",
    "    def __init__(self, model:nn.Module, device:Optional[torch.device]=None, bulk_move:bool=True):\n",
    "        if device is None: self.device = torch.device('cuda') if torch.cuda.is_available() else torch.device('cpu')\n",
    "        else:              self.device = device\n",
    "        self.model = self.to_device(model, self.device)\n",
    "        self.opt = optim.Adam(self.model.parameters())\n",
    "        self._n_out = self.get_n_out()\n",
    "        self.bulk_move = bulk_move\n",
    "        \n",
    "    def __repr__(self) -> str:\n",
    "        return f'''Model:\\n{self.model}\n",
    "        \\n\\nNumber of trainable parameters: {sum(p.numel() for p in self.model.parameters() if p.requires_grad)}\n",
    "        \\n\\nOptimiser:\\n{self.opt}\n",
    "        '''\n",
    "    \n",
    "    def get_n_out(self) -> None:\n",
    "        r'''\n",
    "        Gets the number of outputs of the network\n",
    "        '''\n",
    "        \n",
    "        l = deque(self.model.parameters(), maxlen=1).pop()\n",
    "        return len(l.shape)\n",
    "    \n",
    "    @staticmethod\n",
    "    def to_device(x:Union[Tensor,List[Tensor]], device:torch.device) -> Union[Tensor,List[Tensor]]:\n",
    "        r'''\n",
    "        Recursively places Tensor(s) onto device\n",
    "\n",
    "        Arguments:\n",
    "            x: Tensor(s) to place on device\n",
    "\n",
    "        Returns:\n",
    "            Tensor(s) on device\n",
    "        '''\n",
    "\n",
    "        if x is None: return x\n",
    "        if isinstance(x, list): return [Model.to_device(o, device) for o in x]\n",
    "        return x.to(device)\n",
    "    \n",
    "    @staticmethod\n",
    "    def to_np(x:Tensor) -> np.ndarray:\n",
    "        r'''\n",
    "        Converts Tensor x to a Numpy array\n",
    "\n",
    "        Arguments:\n",
    "            x: Tensor to convert\n",
    "\n",
    "        Returns:\n",
    "            x as a Numpy array\n",
    "        '''\n",
    "\n",
    "        return x.cpu().detach().numpy()\n",
    "    \n",
    "    def set_lr(self, lr:float) -> None:\n",
    "        r'''\n",
    "        Sets learning rate of optimiser\n",
    "        '''\n",
    "\n",
    "        self.opt.param_groups[0]['lr'] = lr\n",
    "    \n",
    "    def fit(self, x:np.ndarray, y:np.ndarray,\n",
    "            lr:float, batchsize:int, loss_fn:_Loss, n_epochs:int,\n",
    "            x_val:Optional[np.ndarray]=None, y_val:Optional[np.ndarray]=None) -> Tuple[List[float],List[float]]:\n",
    "        r'''\n",
    "        Fits model to data (optionally using validation data) for a set number of epochs.\n",
    "        \n",
    "        Arguments:\n",
    "            x: training inputs\n",
    "            y: training targets\n",
    "            lr: learning rate\n",
    "            batchsize: size of minibatches\n",
    "            loss_fn: Loss function to use\n",
    "            n_epochs: number of epochs to train\n",
    "            x_val: optional validation inputs\n",
    "            y_val: optional validation targets\n",
    "        \n",
    "        Returns:\n",
    "            Tuple of train and validation losses\n",
    "        '''\n",
    "        \n",
    "        trn_losses,val_losses = [],[]\n",
    "        trn_dl = NPDataset(x,y, bs=batchsize, shuffle=True, bulk_move=self.bulk_move, device=self.device)\n",
    "        self.set_lr(lr)\n",
    "        \n",
    "        epoch_pb = progress_bar(range(n_epochs), display=True, leave=True)\n",
    "        for e in epoch_pb:\n",
    "            losses = []  # Holder for losses during epoch\n",
    "            self.model.train()  # Put model into train mode (local gradients saved during forward pass, dropout active, etc.)\n",
    "            for x, y in trn_dl:  # Loop over batches\n",
    "                x,y = self.to_device(x, self.device),self.to_device(y, self.device)  # Put data on device\n",
    "                y_pred = self.model(x)  # Run forward pass of network and get prediction\n",
    "                loss = loss_fn(y_pred, y)  # Compute loss of prediction\n",
    "                losses.append(loss.data.item())  # Get value of loss\n",
    "                self.opt.zero_grad()  # Reset recorded gradients\n",
    "                loss.backward()  # Propagate loss gradient backwards through network\n",
    "                self.opt.step()  # Perform one update step to network parameters\n",
    "            \n",
    "            trn_losses.append(np.mean(losses))\n",
    "            if x_val is not None:\n",
    "                val_losses.append(self.evaluate(x_val,y_val, batchsize=batchsize, loss_fn=loss_fn))\n",
    "                epoch_pb.comment = f'Epoch {e+1}, best loss: {np.min(val_losses):.4E}'\n",
    "            else:\n",
    "                epoch_pb.comment = f'Epoch {e+1}, best loss: {np.min(trn_losses):.4E}'\n",
    "        self.plot_train_history([trn_losses,val_losses])\n",
    "        return trn_losses,val_losses\n",
    "    \n",
    "    def evaluate(self, x:np.ndarray, y:np.ndarray, batchsize:int, loss_fn:_Loss) -> float:\n",
    "        r'''\n",
    "        Computes mean loss on network predicitons for data\n",
    "        '''\n",
    "        \n",
    "        self.model.eval()  # Put model into eval mode no grads saved, dropout turned off, etc.\n",
    "        loss = []\n",
    "        dl = NPDataset(x,y, bs=batchsize, shuffle=True, bulk_move=self.bulk_move, device=self.device)\n",
    "        for x, y in dl:  # Loop over batches\n",
    "            x,y = self.to_device(x, self.device),self.to_device(y, self.device)  # Put data on device\n",
    "            y_pred = self.model(x)  # Run forward pass of network and get prediction\n",
    "            loss.append(loss_fn(y_pred, y).data.item())  # Get value of loss\n",
    "        return np.mean(loss)\n",
    "    \n",
    "    def predict(self, x:np.ndarray, batchsize:Optional[int]=None) -> np.ndarray:\n",
    "        r'''\n",
    "        Computes preditions for network on data\n",
    "        '''\n",
    "        \n",
    "        self.model.eval()  # Put model into eval mode no grads saved, dropout turned off, etc.\n",
    "        if batchsize is None:  # Compute all predictions at once\n",
    "            x = x.astype('float32')\n",
    "            if len(x.shape) == 1: x = x[:,None]\n",
    "            preds = self.model(self.to_device(Tensor(x), self.device))\n",
    "        else:\n",
    "            dl = NPDataset(x, bs=batchsize, shuffle=False, bulk_move=self.bulk_move, drop_last=False, device=self.device)\n",
    "            preds = torch.zeros((len(x),self._n_out), device=self.device)\n",
    "            for i, x in enumerate(progress_bar(dl, leave=True)):  # Loop over batches\n",
    "                x = self.to_device(x, self.device)  # Put inputs on device\n",
    "                ps = self.model(x)  # Run forward pass of network and get prediction\n",
    "                if len(ps) == batchsize: preds[i*batchsize:(1+i)*batchsize] = ps\n",
    "                else:                    preds[i*batchsize:]                = ps  # Last batch\n",
    "        return self.to_np(preds)\n",
    "    \n",
    "    @staticmethod\n",
    "    def plot_train_history(history:Tuple[List[float],List[float]]) -> None:\n",
    "        r'''\n",
    "        Plots loss evolution as a function of training epoch\n",
    "        '''\n",
    "        plt.figure(figsize=(16,9))\n",
    "        plt.plot(history[0], label='Training')\n",
    "        plt.plot(history[1], label='Validation')\n",
    "        plt.legend(loc='upper right', fontsize=16)\n",
    "        if history[0][0]/np.min(history[0]) > 50: plt.yscale('log', nonposy='clip')\n",
    "        plt.grid(True, which=\"both\")\n",
    "        plt.xticks(fontsize=16)\n",
    "        plt.yticks(fontsize=16)\n",
    "        plt.xlabel(\"Epoch\", fontsize=24)\n",
    "        plt.ylabel(\"Loss\", fontsize=24)\n",
    "        plt.show()"
   ]
  },
  {
   "cell_type": "code",
   "execution_count": 7,
   "metadata": {},
   "outputs": [],
   "source": [
    "net = NN(n_in=1, depth=6, width=10, n_out=1, out_act=None)"
   ]
  },
  {
   "cell_type": "code",
   "execution_count": 8,
   "metadata": {},
   "outputs": [
    {
     "data": {
      "text/plain": [
       "Model:\n",
       "NN(\n",
       "  (layers): Sequential(\n",
       "    (0): Sequential(\n",
       "      (0): Linear(in_features=1, out_features=10, bias=True)\n",
       "      (1): ReLU()\n",
       "    )\n",
       "    (1): Sequential(\n",
       "      (0): Linear(in_features=10, out_features=10, bias=True)\n",
       "      (1): ReLU()\n",
       "    )\n",
       "    (2): Sequential(\n",
       "      (0): Linear(in_features=10, out_features=10, bias=True)\n",
       "      (1): ReLU()\n",
       "    )\n",
       "    (3): Sequential(\n",
       "      (0): Linear(in_features=10, out_features=10, bias=True)\n",
       "      (1): ReLU()\n",
       "    )\n",
       "    (4): Sequential(\n",
       "      (0): Linear(in_features=10, out_features=10, bias=True)\n",
       "      (1): ReLU()\n",
       "    )\n",
       "    (5): Sequential(\n",
       "      (0): Linear(in_features=10, out_features=10, bias=True)\n",
       "      (1): ReLU()\n",
       "    )\n",
       "    (6): Sequential(\n",
       "      (0): Linear(in_features=10, out_features=1, bias=True)\n",
       "    )\n",
       "  )\n",
       ")\n",
       "        \n",
       "\n",
       "Number of trainable parameters: 581\n",
       "        "
      ]
     },
     "execution_count": 8,
     "metadata": {},
     "output_type": "execute_result"
    }
   ],
   "source": [
    "model = Model(net); model"
   ]
  },
  {
   "cell_type": "markdown",
   "metadata": {},
   "source": [
    "Note the use of MSELoss"
   ]
  },
  {
   "cell_type": "code",
   "execution_count": 9,
   "metadata": {},
   "outputs": [
    {
     "data": {
      "text/html": [
       "\n",
       "    <div>\n",
       "        <style>\n",
       "            /* Turns off some styling */\n",
       "            progress {\n",
       "                /* gets rid of default border in Firefox and Opera. */\n",
       "                border: none;\n",
       "                /* Needs to be in here for Safari polyfill so background images work as expected. */\n",
       "                background-size: auto;\n",
       "            }\n",
       "            .progress-bar-interrupted, .progress-bar-interrupted::-webkit-progress-bar {\n",
       "                background: #F44336;\n",
       "            }\n",
       "        </style>\n",
       "      <progress value='100' class='' max='100', style='width:300px; height:20px; vertical-align: middle;'></progress>\n",
       "      100.00% [100/100 00:00<00:00 Epoch 100, best loss: 3.8448E-02]\n",
       "    </div>\n",
       "    "
      ],
      "text/plain": [
       "<IPython.core.display.HTML object>"
      ]
     },
     "metadata": {},
     "output_type": "display_data"
    },
    {
     "data": {
      "image/png": "[encoded data removed]",
      "text/plain": [
       "<Figure size 1152x648 with 1 Axes>"
      ]
     },
     "metadata": {},
     "output_type": "display_data"
    }
   ],
   "source": [
    "history = model.fit(x=x, y=y, batchsize=64, n_epochs=100, lr=0.01, loss_fn=MSELoss())"
   ]
  },
  {
   "cell_type": "code",
   "execution_count": 10,
   "metadata": {},
   "outputs": [],
   "source": [
    "preds = model.predict(x)"
   ]
  },
  {
   "cell_type": "code",
   "execution_count": 11,
   "metadata": {},
   "outputs": [
    {
     "data": {
      "image/png": "[encoded data removed]",
      "text/plain": [
       "<Figure size 432x288 with 1 Axes>"
      ]
     },
     "metadata": {},
     "output_type": "display_data"
    }
   ],
   "source": [
    "_ = plt.scatter(x, y, label='True')\n",
    "_ = plt.scatter(x, preds.squeeze(), label='Pred.')\n",
    "plt.legend();"
   ]
  },
  {
   "cell_type": "code",
   "execution_count": null,
   "metadata": {},
   "outputs": [],
   "source": []
  }
 ],
 "metadata": {
  "kernelspec": {
   "display_name": "Python 3",
   "language": "python",
   "name": "python3"
  },
  "language_info": {
   "codemirror_mode": {
    "name": "ipython",
    "version": 3
   },
   "file_extension": ".py",
   "mimetype": "text/x-python",
   "name": "python",
   "nbconvert_exporter": "python",
   "pygments_lexer": "ipython3",
   "version": "3.6.5"
  },
  "toc": {
   "base_numbering": 1,
   "nav_menu": {},
   "number_sections": true,
   "sideBar": true,
   "skip_h1_title": false,
   "title_cell": "Table of Contents",
   "title_sidebar": "Contents",
   "toc_cell": false,
   "toc_position": {},
   "toc_section_display": true,
   "toc_window_display": false
  }
 },
 "nbformat": 4,
 "nbformat_minor": 2
}
